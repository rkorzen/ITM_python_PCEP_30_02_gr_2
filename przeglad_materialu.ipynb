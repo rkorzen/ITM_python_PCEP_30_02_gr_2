{
 "cells": [
  {
   "cell_type": "markdown",
   "id": "4e64a937",
   "metadata": {},
   "source": [
    "## Python Fundamentals\n",
    "\n",
    "PCEP-30-02 1.1 – Understand fundamental terms and definitions\n",
    "\n",
    "    interpreting and the interpreter, compilation and the compiler\n",
    "    \n",
    "    \n",
    "    lexis, syntax, and semantics\n",
    "    \n",
    "    \n",
    "\n",
    "PCEP-30-02 1.2 – Understand Python’s logic and structure\n",
    "\n",
    "    keywords"
   ]
  },
  {
   "cell_type": "code",
   "execution_count": null,
   "id": "e1383c03",
   "metadata": {},
   "outputs": [],
   "source": [
    "help(\"keywords\")"
   ]
  },
  {
   "cell_type": "markdown",
   "id": "160057a0",
   "metadata": {},
   "source": [
    "False, True, None"
   ]
  },
  {
   "cell_type": "markdown",
   "id": "87e2c1ec",
   "metadata": {},
   "source": [
    "and, or, not, is, in, if, elif, else"
   ]
  },
  {
   "cell_type": "markdown",
   "id": "c4436d12",
   "metadata": {},
   "source": [
    "async, await"
   ]
  },
  {
   "cell_type": "markdown",
   "id": "b857c884",
   "metadata": {},
   "source": [
    "def, class, return, yield, pass, lambda"
   ]
  },
  {
   "cell_type": "markdown",
   "id": "8dfe811b",
   "metadata": {},
   "source": [
    "assert"
   ]
  },
  {
   "cell_type": "markdown",
   "id": "767101aa",
   "metadata": {},
   "source": [
    "for, while, else, break, continue"
   ]
  },
  {
   "cell_type": "markdown",
   "id": "36df2e22",
   "metadata": {},
   "source": [
    "raise, try, except, finally"
   ]
  },
  {
   "cell_type": "markdown",
   "id": "0a7df442",
   "metadata": {},
   "source": [
    "global, nonlocal, del"
   ]
  },
  {
   "cell_type": "markdown",
   "id": "40b895f6",
   "metadata": {},
   "source": [
    "import, from, as"
   ]
  },
  {
   "cell_type": "markdown",
   "id": "44b1edcd",
   "metadata": {},
   "source": [
    "with, as"
   ]
  },
  {
   "cell_type": "code",
   "execution_count": null,
   "id": "ae2a4295",
   "metadata": {},
   "outputs": [],
   "source": [
    "# dir()"
   ]
  },
  {
   "cell_type": "code",
   "execution_count": null,
   "id": "86744144",
   "metadata": {},
   "outputs": [],
   "source": [
    "\"\"\"\n",
    "To jest jakiś\n",
    "długi komentarz\n",
    "\"\"\""
   ]
  },
  {
   "cell_type": "markdown",
   "id": "f7e38b7d",
   "metadata": {},
   "source": [
    "    instructions\n",
    "    "
   ]
  },
  {
   "cell_type": "code",
   "execution_count": null,
   "id": "49064459",
   "metadata": {},
   "outputs": [],
   "source": [
    "x = 1 # przypisanie\n",
    "print() # wywołanie\n",
    "\n",
    "# definicje\n",
    "def foo():\n",
    "    pass\n",
    "\n",
    "class Foo():\n",
    "    pass\n",
    "\n",
    "foo(), Foo()\n",
    "\n",
    "# instrukcje sterujace\n",
    "\n",
    "if x == 1:\n",
    "    for i in range(10): print(i)\n",
    "else:\n",
    "    print(\"cos innego\")"
   ]
  },
  {
   "cell_type": "markdown",
   "id": "1d740eae",
   "metadata": {},
   "source": [
    "    \n",
    "    indentation\n",
    "    "
   ]
  },
  {
   "cell_type": "markdown",
   "id": "485dce3f",
   "metadata": {},
   "source": [
    "if (wyrazenie) {inst1; instr2;} else {print(\"a\"); print(\"b\")}\n",
    "\n",
    "\n",
    "if (wyrazenie) \n",
    "{\n",
    "  inst1; \n",
    "  instr2;\n",
    "} \n",
    "else \n",
    "{\n",
    "  print(\"a\"); \n",
    "  print(\"b\");\n",
    "}"
   ]
  },
  {
   "cell_type": "code",
   "execution_count": null,
   "id": "f6dec5b6",
   "metadata": {},
   "outputs": [],
   "source": [
    "wyrazenie = 1 > 2\n",
    "a = 10\n",
    "print(\"przed wyrażeniem\")\n",
    "\n",
    "if wyrazenie:\n",
    "    # blok instrukcji\n",
    "    instr1\n",
    "    instr2\n",
    "    \n",
    "else:\n",
    "    if a > 5:\n",
    "        print(\"a\", a)\n",
    "    print(\"b\")\n",
    "    \n",
    "print(\"jeste po wyrażeniu\")"
   ]
  },
  {
   "cell_type": "code",
   "execution_count": null,
   "id": "ef995438",
   "metadata": {},
   "outputs": [],
   "source": [
    "def jakas_funkcja():\n",
    "    \"\"\"napis\"\"\""
   ]
  },
  {
   "cell_type": "markdown",
   "id": "42628290",
   "metadata": {},
   "source": [
    "    comments"
   ]
  },
  {
   "cell_type": "code",
   "execution_count": null,
   "id": "47b26e8a",
   "metadata": {},
   "outputs": [],
   "source": [
    "# komentarz\n",
    "# linia 2\n",
    "# ctrl + /\n",
    "\n",
    "x = 1  # parameter x "
   ]
  },
  {
   "cell_type": "code",
   "execution_count": null,
   "id": "094868f3",
   "metadata": {},
   "outputs": [],
   "source": [
    "\"\"\"\n",
    "komentarz\n",
    "linia 2\n",
    "ctrl + /\n",
    "\"\"\""
   ]
  },
  {
   "cell_type": "markdown",
   "id": "bb6eb149",
   "metadata": {},
   "source": [
    "PCEP-30-02 1.3 – Introduce literals and variables into code and use different numeral systems\n",
    "\n",
    "    Boolean, \n",
    "    \n",
    "    "
   ]
  },
  {
   "cell_type": "code",
   "execution_count": null,
   "id": "14d2b962",
   "metadata": {},
   "outputs": [],
   "source": [
    "## bool, False, True\n",
    "\n",
    "bool  # nazwa typu\n",
    "bool() # tworzę obiekt typu bool\n",
    "\n",
    "bool(\"0\")"
   ]
  },
  {
   "cell_type": "code",
   "execution_count": null,
   "id": "be43eb9d",
   "metadata": {},
   "outputs": [],
   "source": [
    "bool(\"False\")"
   ]
  },
  {
   "cell_type": "code",
   "execution_count": null,
   "id": "52145a24",
   "metadata": {},
   "outputs": [],
   "source": [
    "type(1 > 0)"
   ]
  },
  {
   "cell_type": "code",
   "execution_count": null,
   "id": "45d803c5",
   "metadata": {},
   "outputs": [],
   "source": [
    "# help(bool)"
   ]
  },
  {
   "cell_type": "code",
   "execution_count": null,
   "id": "64e4fd61",
   "metadata": {},
   "outputs": [],
   "source": [
    "1 + True"
   ]
  },
  {
   "cell_type": "code",
   "execution_count": null,
   "id": "3bb76aeb",
   "metadata": {},
   "outputs": [],
   "source": [
    "False and True"
   ]
  },
  {
   "cell_type": "code",
   "execution_count": null,
   "id": "2a21acbb",
   "metadata": {},
   "outputs": [],
   "source": [
    "False or True"
   ]
  },
  {
   "cell_type": "code",
   "execution_count": null,
   "id": "16763f64",
   "metadata": {},
   "outputs": [],
   "source": [
    "1 > 0 or 1 / 0"
   ]
  },
  {
   "cell_type": "code",
   "execution_count": null,
   "id": "78f05086",
   "metadata": {},
   "outputs": [],
   "source": [
    "1 > 0 and 1 / 0"
   ]
  },
  {
   "cell_type": "code",
   "execution_count": null,
   "id": "153f917d",
   "metadata": {},
   "outputs": [],
   "source": [
    "1 > 2 and 1 / 0"
   ]
  },
  {
   "cell_type": "code",
   "execution_count": null,
   "id": "bd411c21",
   "metadata": {},
   "outputs": [],
   "source": [
    "x = 10 - 9\n",
    "x == True # x == 1"
   ]
  },
  {
   "cell_type": "code",
   "execution_count": null,
   "id": "c1f80b8c",
   "metadata": {},
   "outputs": [],
   "source": [
    "x is True"
   ]
  },
  {
   "cell_type": "code",
   "execution_count": null,
   "id": "70bb361c",
   "metadata": {},
   "outputs": [],
   "source": [
    "id(True)"
   ]
  },
  {
   "cell_type": "code",
   "execution_count": null,
   "id": "835e620f",
   "metadata": {},
   "outputs": [],
   "source": [
    "id(1 > 0)"
   ]
  },
  {
   "cell_type": "code",
   "execution_count": null,
   "id": "0c991013",
   "metadata": {},
   "outputs": [],
   "source": [
    "# x = 1\n",
    "# y = 1\n",
    "\n",
    "# x = 10000\n",
    "# y = 10000\n",
    "\n",
    "\n",
    "x = \"ala 1\"\n",
    "y = \"ala 1\""
   ]
  },
  {
   "cell_type": "code",
   "execution_count": null,
   "id": "885a2723",
   "metadata": {},
   "outputs": [],
   "source": [
    "x == y"
   ]
  },
  {
   "cell_type": "code",
   "execution_count": null,
   "id": "38a89696",
   "metadata": {},
   "outputs": [],
   "source": [
    "x is y"
   ]
  },
  {
   "cell_type": "code",
   "execution_count": null,
   "id": "7fd92927",
   "metadata": {},
   "outputs": [],
   "source": []
  },
  {
   "cell_type": "markdown",
   "id": "a72c781a",
   "metadata": {},
   "source": [
    "    integers, "
   ]
  },
  {
   "cell_type": "code",
   "execution_count": null,
   "id": "a37b622b",
   "metadata": {},
   "outputs": [],
   "source": [
    "int"
   ]
  },
  {
   "cell_type": "code",
   "execution_count": null,
   "id": "87e10ddb",
   "metadata": {},
   "outputs": [],
   "source": [
    "int()"
   ]
  },
  {
   "cell_type": "code",
   "execution_count": null,
   "id": "48be9728",
   "metadata": {},
   "outputs": [],
   "source": [
    "int(True)"
   ]
  },
  {
   "cell_type": "code",
   "execution_count": null,
   "id": "63c73eeb",
   "metadata": {},
   "outputs": [],
   "source": [
    "int(\"10\")"
   ]
  },
  {
   "cell_type": "code",
   "execution_count": null,
   "id": "640a92c0",
   "metadata": {},
   "outputs": [],
   "source": [
    "int(\"aaa\")"
   ]
  },
  {
   "cell_type": "code",
   "execution_count": null,
   "id": "399e62e6",
   "metadata": {},
   "outputs": [],
   "source": [
    "int?"
   ]
  },
  {
   "cell_type": "code",
   "execution_count": null,
   "id": "5c51b25f",
   "metadata": {},
   "outputs": [],
   "source": [
    "1000\n",
    "100000000000000000000000"
   ]
  },
  {
   "cell_type": "code",
   "execution_count": null,
   "id": "877c4129",
   "metadata": {},
   "outputs": [],
   "source": [
    "liczba_szesnastkowa = \"abc\"\n",
    "\n",
    "# 0, 1\n",
    "# 0, 1, 2\n",
    "# 0, 1, ..., 9\n",
    "# 0, 1, ..., 9, a, b, c, d, e, f\n",
    "\n",
    "int(liczba_szesnastkowa, base=16)"
   ]
  },
  {
   "cell_type": "code",
   "execution_count": null,
   "id": "6cd5711a",
   "metadata": {},
   "outputs": [],
   "source": [
    "int(\"a\", base=16)"
   ]
  },
  {
   "cell_type": "code",
   "execution_count": null,
   "id": "80a724ac",
   "metadata": {},
   "outputs": [],
   "source": [
    "int(\"2\", base=3)"
   ]
  },
  {
   "cell_type": "code",
   "execution_count": null,
   "id": "97fd662f",
   "metadata": {},
   "outputs": [],
   "source": [
    "int(1.1)"
   ]
  },
  {
   "cell_type": "code",
   "execution_count": null,
   "id": "a74adc25",
   "metadata": {},
   "outputs": [],
   "source": [
    "1_999_99_9_000"
   ]
  },
  {
   "cell_type": "markdown",
   "id": "95746b12",
   "metadata": {},
   "source": [
    "    binary, octal, decimal, and hexadecimal numeral systems"
   ]
  },
  {
   "cell_type": "code",
   "execution_count": null,
   "id": "46a8b82d",
   "metadata": {},
   "outputs": [],
   "source": [
    "bin, oct, hex"
   ]
  },
  {
   "cell_type": "code",
   "execution_count": null,
   "id": "174b2d4a",
   "metadata": {},
   "outputs": [],
   "source": [
    "bin(123)"
   ]
  },
  {
   "cell_type": "code",
   "execution_count": null,
   "id": "6160298c",
   "metadata": {},
   "outputs": [],
   "source": [
    "oct(123)"
   ]
  },
  {
   "cell_type": "code",
   "execution_count": null,
   "id": "1b2e59d9",
   "metadata": {},
   "outputs": [],
   "source": [
    "hex(123)"
   ]
  },
  {
   "cell_type": "code",
   "execution_count": null,
   "id": "3e6172c3",
   "metadata": {},
   "outputs": [],
   "source": [
    "0x111, -0b111, 0o111"
   ]
  },
  {
   "cell_type": "markdown",
   "id": "289263fe",
   "metadata": {},
   "source": [
    "    floating-point numbers"
   ]
  },
  {
   "cell_type": "code",
   "execution_count": null,
   "id": "1dba6dba",
   "metadata": {},
   "outputs": [],
   "source": [
    "type(1.1)"
   ]
  },
  {
   "cell_type": "code",
   "execution_count": null,
   "id": "8af36e26",
   "metadata": {},
   "outputs": [],
   "source": [
    "float()"
   ]
  },
  {
   "cell_type": "code",
   "execution_count": null,
   "id": "dfe1f106",
   "metadata": {},
   "outputs": [],
   "source": [
    "float(\"2.7\")"
   ]
  },
  {
   "cell_type": "code",
   "execution_count": null,
   "id": "172447e8",
   "metadata": {},
   "outputs": [],
   "source": [
    "# float(\"2,7\")"
   ]
  },
  {
   "cell_type": "code",
   "execution_count": null,
   "id": "820498cc",
   "metadata": {},
   "outputs": [],
   "source": [
    "0.1 + 0.1 + 0.1 == 0.3"
   ]
  },
  {
   "cell_type": "code",
   "execution_count": null,
   "id": "80a334a7",
   "metadata": {},
   "outputs": [],
   "source": [
    "0.1 + 0.1 + 0.1"
   ]
  },
  {
   "cell_type": "code",
   "execution_count": null,
   "id": "effb6c11",
   "metadata": {},
   "outputs": [],
   "source": [
    "1.78e400"
   ]
  },
  {
   "cell_type": "code",
   "execution_count": null,
   "id": "78aec21e",
   "metadata": {},
   "outputs": [],
   "source": [
    "float(\"-inf\") <= 1.78e400 <= float(\"inf\")"
   ]
  },
  {
   "cell_type": "code",
   "execution_count": null,
   "id": "f93ac0a8",
   "metadata": {},
   "outputs": [],
   "source": [
    "float(\"-inf\") <= float(\"nan\") <= float(\"inf\")"
   ]
  },
  {
   "cell_type": "code",
   "execution_count": null,
   "id": "e50e5226",
   "metadata": {},
   "outputs": [],
   "source": [
    "1.1 == 1.1"
   ]
  },
  {
   "cell_type": "code",
   "execution_count": null,
   "id": "e1116df6",
   "metadata": {},
   "outputs": [],
   "source": [
    "float(\"nan\") == float(\"nan\")"
   ]
  },
  {
   "cell_type": "markdown",
   "id": "3328af89",
   "metadata": {},
   "source": [
    "    \n",
    "    \n",
    "    scientific notation"
   ]
  },
  {
   "cell_type": "code",
   "execution_count": null,
   "id": "55660ff3",
   "metadata": {},
   "outputs": [],
   "source": [
    "0.1e5"
   ]
  },
  {
   "cell_type": "markdown",
   "id": "3256a7fc",
   "metadata": {},
   "source": [
    "## operatory arytmetyczne:\n",
    "\n",
    "+, -, *, /, //, %, **  "
   ]
  },
  {
   "cell_type": "code",
   "execution_count": null,
   "id": "a6cad5e9",
   "metadata": {},
   "outputs": [],
   "source": [
    "3 ** 2"
   ]
  },
  {
   "cell_type": "code",
   "execution_count": null,
   "id": "40beecfd",
   "metadata": {},
   "outputs": [],
   "source": [
    "5 / 2, 5 // 2, 5 % 2"
   ]
  },
  {
   "cell_type": "code",
   "execution_count": null,
   "id": "1e6d0875",
   "metadata": {},
   "outputs": [],
   "source": [
    "type(5.0 // 2)"
   ]
  },
  {
   "cell_type": "code",
   "execution_count": null,
   "id": "d9bfecdb",
   "metadata": {},
   "outputs": [],
   "source": [
    "5.0 // 2"
   ]
  },
  {
   "cell_type": "code",
   "execution_count": null,
   "id": "0dcf6d3c",
   "metadata": {},
   "outputs": [],
   "source": [
    "type(5 // 2.0)"
   ]
  },
  {
   "cell_type": "code",
   "execution_count": null,
   "id": "25458c68",
   "metadata": {},
   "outputs": [],
   "source": [
    "5 // 2.0"
   ]
  },
  {
   "cell_type": "code",
   "execution_count": null,
   "id": "084618a1",
   "metadata": {},
   "outputs": [],
   "source": [
    "9 ** 0.5"
   ]
  },
  {
   "cell_type": "code",
   "execution_count": null,
   "id": "730c1167",
   "metadata": {},
   "outputs": [],
   "source": [
    "pow(9, 0.5)"
   ]
  },
  {
   "cell_type": "markdown",
   "id": "2bdb4721",
   "metadata": {},
   "source": [
    "    strings"
   ]
  },
  {
   "cell_type": "code",
   "execution_count": null,
   "id": "7d0a2512",
   "metadata": {},
   "outputs": [],
   "source": [
    "x = \"to jest napis\"\n",
    "y = 'to jest napis'\n",
    "x, y"
   ]
  },
  {
   "cell_type": "code",
   "execution_count": null,
   "id": "c5ae0f26",
   "metadata": {},
   "outputs": [],
   "source": [
    "'to jest \\'napis\\''"
   ]
  },
  {
   "cell_type": "code",
   "execution_count": null,
   "id": "2129e132",
   "metadata": {},
   "outputs": [],
   "source": [
    "\"to jest 'napis'\""
   ]
  },
  {
   "cell_type": "code",
   "execution_count": null,
   "id": "eeb7609d",
   "metadata": {},
   "outputs": [],
   "source": [
    "\"to \" \\\n",
    "\"jest \" \\\n",
    "\"'napis'\"\n"
   ]
  },
  {
   "cell_type": "code",
   "execution_count": null,
   "id": "8a15d925",
   "metadata": {},
   "outputs": [],
   "source": [
    "x = (\n",
    "    \"to \\n\" \n",
    "    \"jest \\n\"\n",
    "    \"'napis'\"\n",
    ")\n",
    "x"
   ]
  },
  {
   "cell_type": "code",
   "execution_count": null,
   "id": "aa1d0957",
   "metadata": {},
   "outputs": [],
   "source": [
    "print(x)"
   ]
  },
  {
   "cell_type": "code",
   "execution_count": null,
   "id": "fa57626b",
   "metadata": {},
   "outputs": [],
   "source": [
    "print(\"\"\"\n",
    "to \n",
    "jest\n",
    "napis\n",
    "\"\"\")"
   ]
  },
  {
   "cell_type": "code",
   "execution_count": null,
   "id": "26a13ce4",
   "metadata": {},
   "outputs": [],
   "source": [
    "'''\n",
    "to jest\n",
    "napis\n",
    "'''"
   ]
  },
  {
   "cell_type": "code",
   "execution_count": null,
   "id": "87ef4f92",
   "metadata": {},
   "outputs": [],
   "source": [
    "\"a\" + \"b\""
   ]
  },
  {
   "cell_type": "code",
   "execution_count": null,
   "id": "5c3e509b",
   "metadata": {},
   "outputs": [],
   "source": [
    "szablon = \"%s %.2f\""
   ]
  },
  {
   "cell_type": "code",
   "execution_count": null,
   "id": "61d5d290",
   "metadata": {},
   "outputs": [],
   "source": [
    "szablon"
   ]
  },
  {
   "cell_type": "code",
   "execution_count": null,
   "id": "8224a614",
   "metadata": {},
   "outputs": [],
   "source": [
    "szablon % (1, 2)"
   ]
  },
  {
   "cell_type": "code",
   "execution_count": null,
   "id": "0f0c43c9",
   "metadata": {},
   "outputs": [],
   "source": [
    "f\"{1} {2:.2f}\""
   ]
  },
  {
   "cell_type": "code",
   "execution_count": null,
   "id": "b82bc73e",
   "metadata": {},
   "outputs": [],
   "source": [
    "a = 1\n",
    "b = 2\n",
    "f\"{a} {b:.2f}\""
   ]
  },
  {
   "cell_type": "code",
   "execution_count": null,
   "id": "c57d65ac",
   "metadata": {},
   "outputs": [],
   "source": [
    "szablon = \"{} {:.2f}\"\n",
    "szablon.format(a, b)"
   ]
  },
  {
   "cell_type": "code",
   "execution_count": null,
   "id": "d9f30e74",
   "metadata": {},
   "outputs": [],
   "source": [
    "szablon = \"{a} {b:.2f}\"\n",
    "szablon.format(a=a, b=b)"
   ]
  },
  {
   "cell_type": "code",
   "execution_count": null,
   "id": "5adcfd98",
   "metadata": {},
   "outputs": [],
   "source": [
    "pr1 = \"mleko\"\n",
    "pr2 = \"bakłażan\"\n",
    "cena_1 = 10\n",
    "cena_2 = 123.23\n"
   ]
  },
  {
   "cell_type": "code",
   "execution_count": null,
   "id": "f68f5d6f",
   "metadata": {},
   "outputs": [],
   "source": [
    "print(f\"\"\"\n",
    "{pr1:^15} {cena_1:6.2f} PLN\n",
    "{pr2:^15} {cena_2:6.2f} PLN\n",
    "\"\"\")"
   ]
  },
  {
   "cell_type": "code",
   "execution_count": null,
   "id": "c63f0cdc",
   "metadata": {},
   "outputs": [],
   "source": [
    "dir(\"\")"
   ]
  },
  {
   "cell_type": "code",
   "execution_count": null,
   "id": "a2f8eb85",
   "metadata": {},
   "outputs": [],
   "source": [
    "help(\"\".title)"
   ]
  },
  {
   "cell_type": "code",
   "execution_count": null,
   "id": "5313594f",
   "metadata": {},
   "outputs": [],
   "source": [
    "napis = \"pan tadeusz\""
   ]
  },
  {
   "cell_type": "code",
   "execution_count": null,
   "id": "5ea1da87",
   "metadata": {},
   "outputs": [],
   "source": [
    "id(napis)"
   ]
  },
  {
   "cell_type": "code",
   "execution_count": null,
   "id": "2028298f",
   "metadata": {},
   "outputs": [],
   "source": [
    "id(napis.title())"
   ]
  },
  {
   "cell_type": "code",
   "execution_count": null,
   "id": "6cdae24c",
   "metadata": {},
   "outputs": [],
   "source": [
    "\"ala ma\\nkota\".split()"
   ]
  },
  {
   "cell_type": "code",
   "execution_count": null,
   "id": "0040219e",
   "metadata": {},
   "outputs": [],
   "source": [
    "\"ala--ma-kota\".split(\"ma\")"
   ]
  },
  {
   "cell_type": "code",
   "execution_count": null,
   "id": "79f145e4",
   "metadata": {},
   "outputs": [],
   "source": [
    "str.split?"
   ]
  },
  {
   "cell_type": "code",
   "execution_count": null,
   "id": "5302853c",
   "metadata": {},
   "outputs": [],
   "source": [
    "#01234567891...\n",
    "\"ala ma kota\"\n"
   ]
  },
  {
   "cell_type": "code",
   "execution_count": null,
   "id": "acb1ec55",
   "metadata": {},
   "outputs": [],
   "source": [
    "\"ala ma kota\"[4]"
   ]
  },
  {
   "cell_type": "code",
   "execution_count": null,
   "id": "7379ba0d",
   "metadata": {},
   "outputs": [],
   "source": [
    "\"ala ma kota\"[3:9]  # slicing"
   ]
  },
  {
   "cell_type": "code",
   "execution_count": null,
   "id": "f374afb9",
   "metadata": {},
   "outputs": [],
   "source": [
    "x = \"ala ma kota\".split()"
   ]
  },
  {
   "cell_type": "code",
   "execution_count": null,
   "id": "dd7171f4",
   "metadata": {},
   "outputs": [],
   "source": [
    "x[0][2]"
   ]
  },
  {
   "cell_type": "code",
   "execution_count": null,
   "id": "b559a4e5",
   "metadata": {},
   "outputs": [],
   "source": [
    "\"ala ma kota\"[1:6:2]  "
   ]
  },
  {
   "cell_type": "code",
   "execution_count": null,
   "id": "3b87849f",
   "metadata": {},
   "outputs": [],
   "source": [
    "\"ala ma kota\"[-2]\n"
   ]
  },
  {
   "cell_type": "code",
   "execution_count": null,
   "id": "a837c7e9",
   "metadata": {},
   "outputs": [],
   "source": [
    "\"ala ma kota\"[-2:]"
   ]
  },
  {
   "cell_type": "code",
   "execution_count": null,
   "id": "bd4a65e4",
   "metadata": {},
   "outputs": [],
   "source": [
    "\"ala ma kota\"[::-1]"
   ]
  },
  {
   "cell_type": "code",
   "execution_count": null,
   "id": "969a4d45",
   "metadata": {},
   "outputs": [],
   "source": [
    "\"ala ma kota\".index(\"a\")"
   ]
  },
  {
   "cell_type": "code",
   "execution_count": null,
   "id": "c6cf5077",
   "metadata": {},
   "outputs": [],
   "source": [
    "\" ala \".index(\"a\", 0)"
   ]
  },
  {
   "cell_type": "code",
   "execution_count": null,
   "id": "29aefd21",
   "metadata": {},
   "outputs": [],
   "source": [
    "\" ala \".index(\"a\", 2)"
   ]
  },
  {
   "cell_type": "code",
   "execution_count": null,
   "id": "342930db",
   "metadata": {},
   "outputs": [],
   "source": [
    "i = 0\n",
    "napis = \" ala \"\n",
    "# while True:\n",
    "#     index = napis.index(\"a\", i)\n",
    "#     i = index + 1\n",
    "#     /i += 1\n",
    "\n",
    "\n",
    "while i < len(napis):\n",
    "    if napis[i] == \"a\":\n",
    "        print(i)\n",
    "    i += 1\n"
   ]
  },
  {
   "cell_type": "markdown",
   "id": "67003bc6",
   "metadata": {},
   "source": [
    "    variables\n",
    "    \n",
    "    - nazwa zmiennej nie może byc keywordem\n",
    "    - nazwa zmiennejskłada się z liter, cyfr i znaku _\n",
    "    - nazwa zmiennej nie może się zaczynać od cyfry\n",
    "    \n",
    "    konwencje:\n",
    "    \n",
    "    - małe litery, słowa rozdzielane _. - snake_case\n",
    "    - DUZE_LITERY - jak chcemy podkreślić, że to jest stała \n",
    "    - _ - nazwa zmiennej, która nie jest dla nas istotna\n",
    "    \n",
    "    naming conventions \n",
    "  \n",
    "    note: camelCase, PascalCase, snake_case\n",
    "    \n",
    "    "
   ]
  },
  {
   "cell_type": "code",
   "execution_count": null,
   "id": "7e2ee311",
   "metadata": {},
   "outputs": [],
   "source": [
    "def func():\n",
    "    return 1, 2\n",
    "\n",
    "\n",
    "_, a = func()"
   ]
  },
  {
   "cell_type": "markdown",
   "id": "5b095c51",
   "metadata": {},
   "source": [
    "nazwa_sera_1 - ok \n",
    " \n",
    "nazwaSera1 - nie ok\n"
   ]
  },
  {
   "cell_type": "code",
   "execution_count": null,
   "id": "9000b8a9",
   "metadata": {},
   "outputs": [],
   "source": [
    "print = 10"
   ]
  },
  {
   "cell_type": "code",
   "execution_count": null,
   "id": "1c60879b",
   "metadata": {},
   "outputs": [],
   "source": [
    "print = __builtin__.print"
   ]
  },
  {
   "cell_type": "markdown",
   "id": "af67be27",
   "metadata": {},
   "source": [
    "  \n",
    "    implementing PEP-8 recommendations\n",
    "    \n",
    "    https://peps.python.org/pep-0008/\n",
    "    \n",
    "    przykład lintera:\n",
    "    https://flake8.pycqa.org/en/latest/\n",
    "\n",
    "    SonarLint\n",
    "    \n",
    "    przykład formattera:\n",
    "    \n",
    "    https://github.com/psf/black\n",
    "    "
   ]
  },
  {
   "cell_type": "code",
   "execution_count": null,
   "id": "fd316398",
   "metadata": {},
   "outputs": [],
   "source": []
  },
  {
   "cell_type": "markdown",
   "id": "e3858c9b",
   "metadata": {},
   "source": [
    "## PCEP-30-02 1.4 – Choose operators and data types adequate to the problem\n",
    "\n",
    "    numeric operators: ** * / % // + –"
   ]
  },
  {
   "cell_type": "code",
   "execution_count": null,
   "id": "f06529b8",
   "metadata": {},
   "outputs": [],
   "source": [
    "1 + 2"
   ]
  },
  {
   "cell_type": "markdown",
   "id": "21645561",
   "metadata": {},
   "source": [
    "    string operators: * +"
   ]
  },
  {
   "cell_type": "code",
   "execution_count": null,
   "id": "db0c0063",
   "metadata": {},
   "outputs": [],
   "source": [
    "\"a\" + \"b\""
   ]
  },
  {
   "cell_type": "code",
   "execution_count": null,
   "id": "9dbd7915",
   "metadata": {},
   "outputs": [],
   "source": [
    "\"-\"*40"
   ]
  },
  {
   "cell_type": "code",
   "execution_count": null,
   "id": "8b79d0ee",
   "metadata": {},
   "outputs": [],
   "source": [
    "a = 1\n",
    "a = \"ala ma kota\""
   ]
  },
  {
   "cell_type": "code",
   "execution_count": null,
   "id": "5bf3cdd0",
   "metadata": {},
   "outputs": [],
   "source": [
    "a: int = 1         # : int - to jest adnotacja typu\n",
    "a = \"ala ma kota\"  # python to zignoruje, ale np mypy to złapie"
   ]
  },
  {
   "cell_type": "code",
   "execution_count": null,
   "id": "29a85235",
   "metadata": {},
   "outputs": [],
   "source": [
    "# \"1\" + 2  # typowanie silne - pythonie nie robi za nas konwersji"
   ]
  },
  {
   "cell_type": "code",
   "execution_count": null,
   "id": "98f95625",
   "metadata": {},
   "outputs": [],
   "source": []
  },
  {
   "cell_type": "markdown",
   "id": "2d0493da",
   "metadata": {},
   "source": [
    "    assignment and shortcut operators\n",
    "    unary and binary operators\n",
    "    priorities and binding\n",
    "    \n",
    "    https://pythonflood.com/python-operator-precedence-simplifying-complex-expressions-22eb46b334\n",
    "    \n",
    "    bitwise operators: ~ & ^ | << >>\n",
    "    Boolean operators: not, and, or\n",
    "    Boolean expressions\n",
    "    relational operators ( == != > >= < <= )\n",
    "    the accuracy of floating-point numbers\n",
    "    type casting"
   ]
  },
  {
   "cell_type": "markdown",
   "id": "831d096a",
   "metadata": {},
   "source": [
    "## PCEP-30-02 1.4 – Choose operators and data types adequate to the problem\n",
    "\n",
    "### Operatory w Pythonie\n",
    "\n",
    "Python, jak większość języków programowania, udostępnia różnorodne operatory, które pozwalają na przeprowadzanie operacji na zmiennych i wartościach. mozemy rozróżnić operatory dwuargumentowe - gdy z lewej i prawej strony operatora znajdują się obiekty oraz operatory jednoargumentowe - operator poprzedza obiekt.\n",
    "\n",
    "Operatory można podzielić na kilka kategorii w zależności od ich przeznaczenia."
   ]
  },
  {
   "cell_type": "markdown",
   "id": "ad2181db",
   "metadata": {},
   "source": [
    "### operatory arytmetyczne\n",
    "\n",
    "\n",
    "| operator | nazwa               | przykład      | wynik |\n",
    "| -------- | ------------------- | --------      | ----- |\n",
    "| +        | dodawanie           | 5 + 3         | 8     |\n",
    "| -        | odejmowanie         | 5 - 3         | 2     |\n",
    "| /        | dzielenie           | 5 / 2         | 2.5   |\n",
    "| //       | dzielenie całkowite | 5 // 2        | 2     |\n",
    "| *        | mnożenie            | 5 * 3         | 15    |\n",
    "| **       | potęgowanie         | 5 ** 2        | 25    |\n",
    "| %        | dzielenie modulo    | 5 % 2         | 1     |\n",
    "| @        | mnożenie macierzy   | [[2]] @ [[3]] | [[6]] |\n",
    "\n",
    "Uwaga: Operator `@` do mnożenia macierzy został wprowadzony w Pythonie 3.5 i jest często używany z bibliotekami takimi jak NumPy. W samym Pythonie nie ma jeszcze wbudowanych typów, które wykorzystują ten operator.\n",
    "\n",
    "https://peps.python.org/pep-0465/"
   ]
  },
  {
   "cell_type": "markdown",
   "id": "0d86e633",
   "metadata": {},
   "source": [
    "### operatory algebry zbiorów\n",
    "\n",
    "Działają na obiektach typu `set`\n",
    "\n",
    "| operator | przykład             | wynik     |\n",
    "| -------- | -------------------- | --------- |\n",
    "| &        | {1, 2} & {2, 3}      | {2}       |\n",
    "| &#124;   | {1, 2} &#124; {2, 3} | {1, 2, 3} |\n",
    "| ^        | {1, 2} ^ {2, 3}      | {1, 3}    |\n",
    "| -        | {1, 2} - {2, 3}      | {1}       |"
   ]
  },
  {
   "cell_type": "markdown",
   "id": "d012e2de",
   "metadata": {},
   "source": [
    "### operatory przypisania: \n",
    "\n",
    "| operator | przykład    | równoważność   |\n",
    "| :------: | ----------- | -------------- |\n",
    "| =        | x = 5       | x = 5          |\n",
    "| +=       | x += 3      | x = x + 3      |\n",
    "| -=       | x -= 3      | x = x - 3      |\n",
    "| *=       | x *= 3      | x = x * 3      |\n",
    "| /=       | x /= 3      | x = x / 3      |\n",
    "| %=       | x %= 3      | x = x % 3      |\n",
    "| //=      | x //= 3     | x = x // 3     |\n",
    "| **=      | x **= 3     | x = x ** 3     |\n",
    "| &=       | x &= 3      | x = x & 3      |\n",
    "| &#124;=  | x &#124;= 3 | x = x &#124; 3 |\n",
    "| ^=       | x ^= 3      | x = x ^ 3      |\n",
    "| >>=      | x >>= 3     | x = x >> 3     |\n",
    "| <<=      | x <<= 3     | x = x << 3     |"
   ]
  },
  {
   "cell_type": "markdown",
   "id": "b364c7a5",
   "metadata": {},
   "source": [
    "### operatory porównania: \n",
    "\n",
    "| operator | nazwa                    | przykład            |\n",
    "| :------: | ------------------------ | ------------------- |\n",
    "| ==       | Equal                    | x == y              |\n",
    "| !=       | Not equal                | x != y              |\n",
    "| >        | Greater than             | x > y               |\n",
    "| <        | Less than                | x < y               |\n",
    "| >=       | Greater than or equal to | x >= y              |\n",
    "| <=       | Less than or equal to    | x <= y              |\n",
    "| :=       | Walrus operator          | if x := 2 < 3: pass |\n",
    "\n",
    "\n",
    "### operatory logiczne\n",
    "\n",
    "| operator | nazwa                                         | przykład              |\n",
    "| :------: | --------------------------------------------- | --------------------- |\n",
    "| and      | Returns True if both statements are true      | x < 5 and  x < 10     |\n",
    "| or       | Returns True if one of the statements is true | x < 5 or x < 4        |\n",
    "| not      | Reverse the result                            | not(x < 5 and x < 10) |\n",
    "\n",
    "### operatory identyczności, tożsamości\n",
    "\n",
    "| operator | nazwa                                                  | przykład   |\n",
    "| :------: | ------------------------------------------------------ | ---------- |\n",
    "| is       | Returns True if both variables are the same object     | x is y     |\n",
    "| is not   | Returns True if both variables are not the same object | x is not y |\n",
    "\n",
    "\n",
    "### operatory przynależnośći\n",
    "\n",
    "| operator | nazwa                                                                            | przykład   |\n",
    "| :------: | -------------------------------------------------------------------------------- | ---------- |\n",
    "| in       | Returns True if a sequence with the specified value is present in the object     | x in y     |\n",
    "| not in   | Returns True if a sequence with the specified value is not present in the object | x not in y |"
   ]
  },
  {
   "cell_type": "code",
   "execution_count": null,
   "id": "24a5a966",
   "metadata": {},
   "outputs": [],
   "source": [
    "\"ma\" in \"ma kota\""
   ]
  },
  {
   "cell_type": "markdown",
   "id": "da1d8c7b",
   "metadata": {},
   "source": [
    "### operatory bitowe\n",
    "\n",
    "| operator | nazwa                | opis | przykład               | wynik      |\n",
    "| :------: | -------------------- | ---- | :--------------------: | ---------- |\n",
    "| &        | AND                  |      | bin(0b10  & 0b01)      | 0b0        |\n",
    "| &#124;   | OR                   |      | bin(0b10  &#124; 0b01) | 0b11       |\n",
    "| ^        | XOR                  |      | bin(0b10 ^ 0b01)       | 0b11       |\n",
    "|          |                      |      | bin(0b10 ^ 0b10)       | 0b0        |\n",
    "| ~        | NOT                  |      | ~0b1                   | -2         |\n",
    "|          |                      |      | bin(~0b1)              | -0b10      |\n",
    "| <<       | Zero fill left shift |      | bin(0b00111100 << 2)   | 0b11110000 |\n",
    "| >>       | Signed right shift   |      | bin(0b00111100 >> 2)   | 0b1111     |"
   ]
  },
  {
   "cell_type": "markdown",
   "id": "b2943954",
   "metadata": {},
   "source": [
    "### PCEP-30-02 1.5 – Perform Input/Output console operations\n",
    "\n",
    "    the print() and input() functions\n",
    "    the sep= and end= keyword parameters\n",
    "    the int() and float() functions"
   ]
  },
  {
   "cell_type": "code",
   "execution_count": null,
   "id": "646e1a83",
   "metadata": {},
   "outputs": [],
   "source": [
    "print(1)\n",
    "print()\n",
    "print(1, 2)"
   ]
  },
  {
   "cell_type": "code",
   "execution_count": null,
   "id": "483640de",
   "metadata": {},
   "outputs": [],
   "source": [
    "print(1, end=\"-\")\n",
    "print(1, 2, sep=\":\")"
   ]
  },
  {
   "cell_type": "code",
   "execution_count": null,
   "id": "3733c346",
   "metadata": {},
   "outputs": [],
   "source": [
    "for i in range(1, 11):\n",
    "    \n",
    "    for j in range(1, 11):\n",
    "        print(f\"{i * j:4}\", end=\" \")\n",
    "    print()"
   ]
  },
  {
   "cell_type": "code",
   "execution_count": null,
   "id": "d829add9",
   "metadata": {},
   "outputs": [],
   "source": [
    "a = print(\"raport\")"
   ]
  },
  {
   "cell_type": "code",
   "execution_count": null,
   "id": "e3192542",
   "metadata": {},
   "outputs": [],
   "source": [
    "print(a)"
   ]
  },
  {
   "cell_type": "markdown",
   "id": "e8af1f9e",
   "metadata": {},
   "source": [
    "## Control Flow - Conditional Blocks and Loops\n",
    "\n",
    "PCEP-30-02 2.1 – Make decisions and branch the flow with the if instruction\n",
    "\n",
    "    conditional statements: if, if-else, if-elif, if-elif-else\n",
    "    multiple conditional statements\n",
    "    nesting conditional statements\n",
    "    \n",
    "   \n",
    "prosty przykłąd\n",
    "```python\n",
    "if wyrazenie:\n",
    "    blok instrukcji    \n",
    "print(\"reszta\")\n",
    "\n",
    "\n",
    "if wyrazenie:\n",
    "    blok instrukcji    \n",
    "else:\n",
    "    inny blok instrukcji\n",
    "print(\"reszta\")\n",
    "\n",
    "\n",
    "if wyrazenie:\n",
    "    blok instrukcji\n",
    "elif inne_wyrazenie:\n",
    "    kolejny blok instrukcji\n",
    "elif jeszcze inne wyrazenie:\n",
    "    ...\n",
    "else:\n",
    "    inny blok instrukcji\n",
    "print(\"reszta\")\n",
    "\n",
    "```\n",
    "\n"
   ]
  },
  {
   "cell_type": "code",
   "execution_count": null,
   "id": "0547151c",
   "metadata": {},
   "outputs": [],
   "source": [
    "if False:\n",
    "    print(\"prawda\")\n",
    "else:\n",
    "    print(\"reszta\")\n",
    "\n",
    "\n",
    "\n"
   ]
  },
  {
   "cell_type": "code",
   "execution_count": null,
   "id": "af7bae91",
   "metadata": {},
   "outputs": [],
   "source": [
    "x, y = 5, 95\n",
    "\n",
    "\n",
    "if x > 100 or y > 100 or x< 0 or y < 0:\n",
    "    print(\"jesteś poza plansza\")\n",
    "\n",
    "elif x < 10 and y > 90:\n",
    "    print(\"GLR\")\n",
    "elif x < 10 and y < 10:\n",
    "    print(\"LDR\")\n",
    "...\n",
    "else:\n",
    "    \n",
    "    print(\"Centrum\")"
   ]
  },
  {
   "cell_type": "code",
   "execution_count": null,
   "id": "5db16330",
   "metadata": {},
   "outputs": [],
   "source": [
    "# if\n",
    "#     if \n",
    "#         if "
   ]
  },
  {
   "cell_type": "code",
   "execution_count": null,
   "id": "0621954b",
   "metadata": {},
   "outputs": [],
   "source": [
    "# match x, y:\n",
    "#    case 10, 15:\n",
    "#       print()"
   ]
  },
  {
   "cell_type": "markdown",
   "id": "428397c1",
   "metadata": {},
   "source": [
    "PCEP-30-02 2.2 – Perform different types of iterations\n",
    "\n",
    "    the pass instruction\n",
    "    for, while, range\n",
    "        iterating through sequences\n",
    "    expanding loops with while-else and for-else\n",
    "    nesting loops and conditional statements\n",
    "    controlling loop execution with break and continue"
   ]
  },
  {
   "cell_type": "code",
   "execution_count": null,
   "id": "ef872d9e",
   "metadata": {},
   "outputs": [],
   "source": [
    "def foo():\n",
    "    pass"
   ]
  },
  {
   "cell_type": "code",
   "execution_count": null,
   "id": "d11fccfa",
   "metadata": {},
   "outputs": [],
   "source": [
    "for i in range(10):\n",
    "    if i % 2 == 0:\n",
    "        pass\n",
    "    else:\n",
    "        print(i)"
   ]
  },
  {
   "cell_type": "markdown",
   "id": "ddc5b925",
   "metadata": {},
   "source": [
    "    building loops with while, for, range(), and in\n",
    "    "
   ]
  },
  {
   "cell_type": "code",
   "execution_count": null,
   "id": "421deee4",
   "metadata": {},
   "outputs": [],
   "source": [
    "list(range(2, 12, 2))\n",
    "range?"
   ]
  },
  {
   "cell_type": "markdown",
   "id": "7c93130c",
   "metadata": {},
   "source": [
    "    \n"
   ]
  },
  {
   "cell_type": "code",
   "execution_count": null,
   "id": "294fc7fa",
   "metadata": {},
   "outputs": [],
   "source": [
    "napis = \"ala ma kota\"\n",
    "\n"
   ]
  },
  {
   "cell_type": "code",
   "execution_count": null,
   "id": "268b0b4f",
   "metadata": {},
   "outputs": [],
   "source": [
    "i = 0\n",
    "while i < len(napis):\n",
    "    print(\"index:\", i, \"znak\", napis[i])\n",
    "    i += 1\n",
    "    "
   ]
  },
  {
   "cell_type": "code",
   "execution_count": null,
   "id": "6dfb441c",
   "metadata": {},
   "outputs": [],
   "source": [
    "for el in napis:\n",
    "    print(el)"
   ]
  },
  {
   "cell_type": "code",
   "execution_count": null,
   "id": "897ace95",
   "metadata": {},
   "outputs": [],
   "source": [
    "for i, el in enumerate(napis):\n",
    "    print(\"index:\", i, \"znak\", el)"
   ]
  },
  {
   "cell_type": "code",
   "execution_count": null,
   "id": "2161abfb",
   "metadata": {},
   "outputs": [],
   "source": [
    " while True:\n",
    "    z = input(\"wpisz jakiś znak lub enter by zakończyć\")\n",
    "    if z == \"\":\n",
    "        break\n",
    "    print(\"wpisany znak\", z)"
   ]
  },
  {
   "cell_type": "code",
   "execution_count": null,
   "id": "4c01c28a",
   "metadata": {},
   "outputs": [],
   "source": [
    "i = 0\n",
    "\n",
    "while True:\n",
    "    print(i)\n",
    "    i += 1\n",
    "    if i == 6:\n",
    "        break"
   ]
  },
  {
   "cell_type": "code",
   "execution_count": null,
   "id": "73d8f54d",
   "metadata": {},
   "outputs": [],
   "source": [
    "for i in range(10):\n",
    "    print(i)\n",
    "    if i == 5:\n",
    "        break"
   ]
  },
  {
   "cell_type": "code",
   "execution_count": null,
   "id": "8ba88715",
   "metadata": {},
   "outputs": [],
   "source": [
    "i = 0\n",
    "\n",
    "while True:\n",
    "    if i == 5:\n",
    "        i += 1\n",
    "        continue\n",
    "    print(i)\n",
    "    i += 1\n",
    "    \n",
    "    if i == 10: break"
   ]
  },
  {
   "cell_type": "code",
   "execution_count": null,
   "id": "629d44af",
   "metadata": {},
   "outputs": [],
   "source": [
    "for i in range(10):\n",
    "    if i == 5:\n",
    "        continue\n",
    "    print(i)\n",
    "print(i)"
   ]
  },
  {
   "cell_type": "code",
   "execution_count": null,
   "id": "5b23544b",
   "metadata": {},
   "outputs": [],
   "source": [
    "for i in range(10):\n",
    "    print(i)\n",
    "    if i == 5: break\n",
    "else:\n",
    "    print(\"Pętla się zakończyła bez break\")"
   ]
  },
  {
   "cell_type": "code",
   "execution_count": null,
   "id": "56360a84",
   "metadata": {},
   "outputs": [],
   "source": [
    "lista = [1, 2, 3, 4, 5, 6, 7]\n",
    "\n",
    "for el in lista:\n",
    "    i = lista.index(el)\n",
    "    lista[i] = el ** 3\n",
    "\n",
    "lista \n",
    "\n",
    "\n",
    "\n",
    "\n",
    "    "
   ]
  },
  {
   "cell_type": "code",
   "execution_count": null,
   "id": "490e077d",
   "metadata": {},
   "outputs": [],
   "source": [
    "lista = [1, 2, 3, 4, 5, 6, 7]\n",
    "\n",
    "for i,el in enumerate(lista):\n",
    "    print(lista)\n",
    "    if el % 2 == 0:\n",
    "        print(i,el)\n",
    "        lista.pop(i)\n",
    "\n",
    "lista \n",
    "\n"
   ]
  },
  {
   "cell_type": "code",
   "execution_count": null,
   "id": "c9e7f67c",
   "metadata": {},
   "outputs": [],
   "source": [
    "list(enumerate(lista, start=10))"
   ]
  },
  {
   "cell_type": "code",
   "execution_count": null,
   "id": "9b20b298",
   "metadata": {},
   "outputs": [],
   "source": [
    "list.pop?"
   ]
  },
  {
   "cell_type": "code",
   "execution_count": null,
   "id": "53ad3387",
   "metadata": {},
   "outputs": [],
   "source": [
    "a, b = 1, 2"
   ]
  },
  {
   "cell_type": "code",
   "execution_count": null,
   "id": "371b2932",
   "metadata": {},
   "outputs": [],
   "source": [
    "a, b"
   ]
  },
  {
   "cell_type": "code",
   "execution_count": null,
   "id": "172a45c3",
   "metadata": {},
   "outputs": [],
   "source": [
    "enumerate?"
   ]
  },
  {
   "cell_type": "markdown",
   "id": "425f9132",
   "metadata": {},
   "source": [
    "## Data structures\n",
    "\n",
    "PCEP-30-02 3.1 – Collect and process data using lists\n",
    "\n",
    "    constructing vectors"
   ]
  },
  {
   "cell_type": "code",
   "execution_count": null,
   "id": "f00a506a",
   "metadata": {},
   "outputs": [],
   "source": [
    "lista = [1, 2, 3, 4]  # lista   list\n",
    "krotka = (1, 2, 3, 4)  # krotka  tuple"
   ]
  },
  {
   "cell_type": "markdown",
   "id": "38cdfba0",
   "metadata": {},
   "source": [
    "     indexing and slicing"
   ]
  },
  {
   "cell_type": "code",
   "execution_count": null,
   "id": "2e393942",
   "metadata": {},
   "outputs": [],
   "source": [
    "lista[1]"
   ]
  },
  {
   "cell_type": "code",
   "execution_count": null,
   "id": "a60a8ac7",
   "metadata": {},
   "outputs": [],
   "source": [
    "krotka[1:3]"
   ]
  },
  {
   "cell_type": "code",
   "execution_count": null,
   "id": "0bcde730",
   "metadata": {},
   "outputs": [],
   "source": [
    "dir(krotka)"
   ]
  },
  {
   "cell_type": "code",
   "execution_count": null,
   "id": "d2f4e8bc",
   "metadata": {},
   "outputs": [],
   "source": [
    "dir(lista)"
   ]
  },
  {
   "cell_type": "code",
   "execution_count": null,
   "id": "c5b5b972",
   "metadata": {},
   "outputs": [],
   "source": [
    "lista.sort(reverse=True)\n",
    "# lista"
   ]
  },
  {
   "cell_type": "code",
   "execution_count": null,
   "id": "688bbd2c",
   "metadata": {},
   "outputs": [],
   "source": [
    "tuple(sorted(krotka, reverse=True))\n"
   ]
  },
  {
   "cell_type": "code",
   "execution_count": null,
   "id": "ff511abd",
   "metadata": {},
   "outputs": [],
   "source": [
    "sorted(\"123\")"
   ]
  },
  {
   "cell_type": "markdown",
   "id": "c992e139",
   "metadata": {},
   "source": [
    "    the len() function\n",
    "    "
   ]
  },
  {
   "cell_type": "code",
   "execution_count": null,
   "id": "e0125d12",
   "metadata": {},
   "outputs": [],
   "source": [
    "len(krotka)"
   ]
  },
  {
   "cell_type": "code",
   "execution_count": null,
   "id": "b868b7f0",
   "metadata": {},
   "outputs": [],
   "source": [
    "len(lista)"
   ]
  },
  {
   "cell_type": "code",
   "execution_count": null,
   "id": "c9782f29",
   "metadata": {},
   "outputs": [],
   "source": [
    "len(\"ala\")"
   ]
  },
  {
   "cell_type": "code",
   "execution_count": null,
   "id": "c9eb7320",
   "metadata": {},
   "outputs": [],
   "source": [
    "len(range(10))\n",
    "10 in krotka"
   ]
  },
  {
   "cell_type": "code",
   "execution_count": null,
   "id": "174e5c76",
   "metadata": {},
   "outputs": [],
   "source": [
    "lista.append(5)"
   ]
  },
  {
   "cell_type": "code",
   "execution_count": null,
   "id": "c68dbfa5",
   "metadata": {},
   "outputs": [],
   "source": [
    "lista"
   ]
  },
  {
   "cell_type": "code",
   "execution_count": null,
   "id": "182cdc76",
   "metadata": {},
   "outputs": [],
   "source": [
    "lista.insert(0, 10)"
   ]
  },
  {
   "cell_type": "code",
   "execution_count": null,
   "id": "d72f96c4",
   "metadata": {},
   "outputs": [],
   "source": [
    "lista"
   ]
  },
  {
   "cell_type": "code",
   "execution_count": null,
   "id": "13f55fd5",
   "metadata": {},
   "outputs": [],
   "source": [
    "help(\"del\")"
   ]
  },
  {
   "cell_type": "code",
   "execution_count": null,
   "id": "9832348b",
   "metadata": {},
   "outputs": [],
   "source": [
    "lista"
   ]
  },
  {
   "cell_type": "markdown",
   "id": "49064437",
   "metadata": {},
   "source": [
    "    list methods: append(), insert(), index(), etc.\n",
    "    functions: len(), sorted()"
   ]
  },
  {
   "cell_type": "code",
   "execution_count": null,
   "id": "da85e536",
   "metadata": {},
   "outputs": [],
   "source": [
    "sorted([\"c1\", \"a5\", \"d6\", \"e4\"], key=lambda x: x[1])"
   ]
  },
  {
   "cell_type": "markdown",
   "id": "55fe7d29",
   "metadata": {},
   "source": [
    "    the del instruction\n",
    "    \n",
    "    iterating through lists with the for loop\n",
    "    initializing loops\n",
    "    the in and not in operators\n",
    "    "
   ]
  },
  {
   "cell_type": "markdown",
   "id": "ff8409ea",
   "metadata": {},
   "source": [
    "    list comprehensions\n",
    "    "
   ]
  },
  {
   "cell_type": "code",
   "execution_count": null,
   "id": "9cf00f9f",
   "metadata": {},
   "outputs": [],
   "source": [
    "liczby = [1, 2, 3 , 4]\n",
    "\n",
    "kwadraty = []\n",
    "for liczba in liczby:\n",
    "    if liczba % 2 == 1:\n",
    "        kwadraty.append(liczba ** 2)\n",
    "    \n",
    "kwadraty"
   ]
  },
  {
   "cell_type": "code",
   "execution_count": null,
   "id": "eeb2bad5",
   "metadata": {},
   "outputs": [],
   "source": [
    "[liczba ** 2 for liczba in liczby if liczba % 2 == 1]"
   ]
  },
  {
   "cell_type": "code",
   "execution_count": null,
   "id": "82019e4e",
   "metadata": {},
   "outputs": [],
   "source": [
    "[[i * j for i in range(10)] for j in range(10) ]"
   ]
  },
  {
   "cell_type": "code",
   "execution_count": null,
   "id": "249b479a",
   "metadata": {},
   "outputs": [],
   "source": [
    "{i**2 for i in range(10)}  # set, zbiór"
   ]
  },
  {
   "cell_type": "code",
   "execution_count": null,
   "id": "ba81793b",
   "metadata": {},
   "outputs": [],
   "source": [
    "(i**2 for i in range(10))"
   ]
  },
  {
   "cell_type": "code",
   "execution_count": null,
   "id": "10ddbc1d",
   "metadata": {},
   "outputs": [],
   "source": [
    "{i: i**2 for i in range(10)}  # dict, słownik"
   ]
  },
  {
   "cell_type": "markdown",
   "id": "1aee7d99",
   "metadata": {},
   "source": [
    "    copying and cloning"
   ]
  },
  {
   "cell_type": "code",
   "execution_count": null,
   "id": "fb81e579",
   "metadata": {},
   "outputs": [],
   "source": [
    "lista = [1, 2, 3]\n",
    "lista2 = lista\n",
    "lista.append(10)\n",
    "lista2\n"
   ]
  },
  {
   "cell_type": "code",
   "execution_count": null,
   "id": "88c1613f",
   "metadata": {},
   "outputs": [],
   "source": [
    "id(lista) == id(lista2)"
   ]
  },
  {
   "cell_type": "code",
   "execution_count": null,
   "id": "85b2c003",
   "metadata": {},
   "outputs": [],
   "source": [
    "lista = [1, 2, 3]\n",
    "lista2 = lista.copy()\n",
    "lista.append(10)\n",
    "lista2 == [1, 2, 3]\n"
   ]
  },
  {
   "cell_type": "code",
   "execution_count": null,
   "id": "28defd18",
   "metadata": {},
   "outputs": [],
   "source": [
    "a = [10, 20]\n",
    "lista = [1, 2, 3, a]\n",
    "lista2 = lista.copy()  # shallow copy\n",
    "a.append(111)\n",
    "lista2\n"
   ]
  },
  {
   "cell_type": "code",
   "execution_count": null,
   "id": "da87a978",
   "metadata": {},
   "outputs": [],
   "source": [
    "from copy import deepcopy\n",
    "\n",
    "a = [10, 20]\n",
    "lista = [1, 2, 3, a]\n",
    "lista2 = deepcopy(lista)  # deep copy\n",
    "a.append(111)\n",
    "lista2\n"
   ]
  },
  {
   "cell_type": "code",
   "execution_count": null,
   "id": "32d23edd",
   "metadata": {},
   "outputs": [],
   "source": [
    "hash(\"asasas\")"
   ]
  },
  {
   "cell_type": "code",
   "execution_count": null,
   "id": "7d011dba",
   "metadata": {},
   "outputs": [],
   "source": [
    "hash([1, 2])"
   ]
  },
  {
   "cell_type": "code",
   "execution_count": null,
   "id": "bf0822cd",
   "metadata": {},
   "outputs": [],
   "source": [
    "hash((1, 2))"
   ]
  },
  {
   "cell_type": "code",
   "execution_count": null,
   "id": "6bcacdae",
   "metadata": {},
   "outputs": [],
   "source": [
    "[1, 2, \"a\", [1, 2], (1, 2)]\n"
   ]
  },
  {
   "cell_type": "code",
   "execution_count": null,
   "id": "a1577744",
   "metadata": {},
   "outputs": [],
   "source": [
    "(1, 2, \"a\", [1, 2], (1, 2))"
   ]
  },
  {
   "cell_type": "code",
   "execution_count": null,
   "id": "73166716",
   "metadata": {},
   "outputs": [],
   "source": [
    "hash((1, 2, \"a\", [1, 2], (1, 2)))"
   ]
  },
  {
   "cell_type": "markdown",
   "id": "1fb0a398",
   "metadata": {},
   "source": [
    "    lists in lists: matrices and cubes"
   ]
  },
  {
   "cell_type": "markdown",
   "id": "fc0f8c40",
   "metadata": {},
   "source": [
    "PCEP-30-02 3.2 – Collect and process data using tuples\n",
    "\n",
    "    tuples: indexing, slicing, building, immutability\n",
    "    tuples vs. lists: similarities and differences\n",
    "    lists inside tuples and tuples inside lists"
   ]
  },
  {
   "cell_type": "code",
   "execution_count": null,
   "id": "f7e7c1f0",
   "metadata": {},
   "outputs": [],
   "source": [
    "((1, 2) + (2, 3))[3]"
   ]
  },
  {
   "cell_type": "code",
   "execution_count": null,
   "id": "b7668f0c",
   "metadata": {},
   "outputs": [],
   "source": [
    "dir(tuple)"
   ]
  },
  {
   "cell_type": "code",
   "execution_count": null,
   "id": "1c970e61",
   "metadata": {},
   "outputs": [],
   "source": [
    "type(())"
   ]
  },
  {
   "cell_type": "code",
   "execution_count": null,
   "id": "65581b72",
   "metadata": {},
   "outputs": [],
   "source": [
    "tuple()"
   ]
  },
  {
   "cell_type": "code",
   "execution_count": null,
   "id": "31a2d7cb",
   "metadata": {},
   "outputs": [],
   "source": [
    "[]"
   ]
  },
  {
   "cell_type": "code",
   "execution_count": null,
   "id": "6a4b41e4",
   "metadata": {},
   "outputs": [],
   "source": [
    "list()"
   ]
  },
  {
   "cell_type": "code",
   "execution_count": null,
   "id": "4ec98982",
   "metadata": {},
   "outputs": [],
   "source": [
    "type((1,))"
   ]
  },
  {
   "cell_type": "code",
   "execution_count": null,
   "id": "2495cd38",
   "metadata": {},
   "outputs": [],
   "source": [
    "[1,2 , 3, ]"
   ]
  },
  {
   "cell_type": "code",
   "execution_count": null,
   "id": "23ee6006",
   "metadata": {},
   "outputs": [],
   "source": [
    "(1,2 , 3, )"
   ]
  },
  {
   "cell_type": "code",
   "execution_count": null,
   "id": "5fc4883a",
   "metadata": {},
   "outputs": [],
   "source": [
    "lista = [\n",
    "    \"A\",\n",
    "    \"B\",\n",
    "    \"C\"\n",
    "    \n",
    "]\n",
    "lista"
   ]
  },
  {
   "cell_type": "code",
   "execution_count": null,
   "id": "f84e8083",
   "metadata": {},
   "outputs": [],
   "source": [
    "lista.extend([1, 2, 3])"
   ]
  },
  {
   "cell_type": "code",
   "execution_count": null,
   "id": "f91b4b47",
   "metadata": {},
   "outputs": [],
   "source": [
    "lista.append(1)"
   ]
  },
  {
   "cell_type": "code",
   "execution_count": null,
   "id": "0602b90a",
   "metadata": {},
   "outputs": [],
   "source": [
    "lista"
   ]
  },
  {
   "cell_type": "code",
   "execution_count": null,
   "id": "85682dc6",
   "metadata": {},
   "outputs": [],
   "source": []
  },
  {
   "cell_type": "code",
   "execution_count": null,
   "id": "e9571a22",
   "metadata": {},
   "outputs": [],
   "source": []
  },
  {
   "cell_type": "markdown",
   "id": "50eb3d46",
   "metadata": {},
   "source": [
    "PCEP-30-02 3.3 Collect and process data using dictionaries\n",
    "\n",
    "    dictionaries: building, indexing, adding and removing keys\n",
    "    iterating through dictionaries and their keys and values\n",
    "    checking the existence of keys\n",
    "    methods: keys(), items(), and values()\n",
    "    "
   ]
  },
  {
   "cell_type": "code",
   "execution_count": null,
   "id": "4e9fda40",
   "metadata": {},
   "outputs": [],
   "source": [
    "slownik = { \"klucz\": \"wartosc2\", \"klucz\": \"wartosc1\",\"klucz xxx\": \"wartosc1\",(1, 2): \"10\"}"
   ]
  },
  {
   "cell_type": "code",
   "execution_count": null,
   "id": "9ca9ada3",
   "metadata": {},
   "outputs": [],
   "source": [
    "slownik"
   ]
  },
  {
   "cell_type": "code",
   "execution_count": null,
   "id": "37948b02",
   "metadata": {},
   "outputs": [],
   "source": [
    "slownik2 = dict(klucz=\"wartosc2\", klucz2=\"wartosc1\")"
   ]
  },
  {
   "cell_type": "code",
   "execution_count": null,
   "id": "162b36df",
   "metadata": {},
   "outputs": [],
   "source": [
    "slownik2"
   ]
  },
  {
   "cell_type": "code",
   "execution_count": null,
   "id": "509007b4",
   "metadata": {},
   "outputs": [],
   "source": [
    "slownik[\"klucz\"]"
   ]
  },
  {
   "cell_type": "code",
   "execution_count": null,
   "id": "20e32edc",
   "metadata": {},
   "outputs": [],
   "source": [
    "slownik[\"xxx\"]"
   ]
  },
  {
   "cell_type": "code",
   "execution_count": null,
   "id": "b282364b",
   "metadata": {},
   "outputs": [],
   "source": [
    "lista[111]"
   ]
  },
  {
   "cell_type": "code",
   "execution_count": null,
   "id": "38981b13",
   "metadata": {},
   "outputs": [],
   "source": [
    "if \"xyz\" in slownik:\n",
    "    wartosc_ze_slownika = slownik[\"xyz\"]"
   ]
  },
  {
   "cell_type": "code",
   "execution_count": null,
   "id": "b21886e0",
   "metadata": {},
   "outputs": [],
   "source": [
    "wartosc_ze_slownika = slownik.get(\"xyz\", \"brak\")"
   ]
  },
  {
   "cell_type": "code",
   "execution_count": null,
   "id": "bc852223",
   "metadata": {},
   "outputs": [],
   "source": [
    "print(wartosc_ze_slownika)"
   ]
  },
  {
   "cell_type": "code",
   "execution_count": null,
   "id": "95cd2482",
   "metadata": {},
   "outputs": [],
   "source": [
    "slownik[\"xyz\"] = \"123\""
   ]
  },
  {
   "cell_type": "code",
   "execution_count": null,
   "id": "4531442d",
   "metadata": {},
   "outputs": [],
   "source": [
    "slownik.get(\"xyz\", \"brak\")"
   ]
  },
  {
   "cell_type": "code",
   "execution_count": null,
   "id": "7a8efbf0",
   "metadata": {},
   "outputs": [],
   "source": [
    "slownik"
   ]
  },
  {
   "cell_type": "code",
   "execution_count": null,
   "id": "521a8754",
   "metadata": {},
   "outputs": [],
   "source": [
    "for el in slownik:\n",
    "    print(el)\n",
    "    print(slownik[el])"
   ]
  },
  {
   "cell_type": "code",
   "execution_count": null,
   "id": "d8c94da6",
   "metadata": {},
   "outputs": [],
   "source": [
    "# dir(slownik)\n",
    "slownik.keys()"
   ]
  },
  {
   "cell_type": "code",
   "execution_count": null,
   "id": "d43ecdac",
   "metadata": {},
   "outputs": [],
   "source": [
    "slownik.values()"
   ]
  },
  {
   "cell_type": "code",
   "execution_count": null,
   "id": "5d50d691",
   "metadata": {},
   "outputs": [],
   "source": [
    "slownik.items()"
   ]
  },
  {
   "cell_type": "code",
   "execution_count": null,
   "id": "77294aab",
   "metadata": {},
   "outputs": [],
   "source": [
    "for el in slownik.keys():\n",
    "    print(el)"
   ]
  },
  {
   "cell_type": "code",
   "execution_count": null,
   "id": "f0cd52d3",
   "metadata": {},
   "outputs": [],
   "source": [
    "for k, v in slownik.items():\n",
    "    print(k, v)"
   ]
  },
  {
   "cell_type": "code",
   "execution_count": null,
   "id": "13c8e1b4",
   "metadata": {},
   "outputs": [],
   "source": [
    "slownik2 = {1: 2, 2: 3}"
   ]
  },
  {
   "cell_type": "code",
   "execution_count": null,
   "id": "9a55a3d4",
   "metadata": {},
   "outputs": [],
   "source": [
    "slownik.update(slownik2)"
   ]
  },
  {
   "cell_type": "code",
   "execution_count": null,
   "id": "a30548aa",
   "metadata": {},
   "outputs": [],
   "source": [
    "slownik"
   ]
  },
  {
   "cell_type": "code",
   "execution_count": null,
   "id": "2438911f",
   "metadata": {},
   "outputs": [],
   "source": [
    "len(slownik)"
   ]
  },
  {
   "cell_type": "code",
   "execution_count": null,
   "id": "84b4973c",
   "metadata": {},
   "outputs": [],
   "source": [
    "sorted(\n",
    "    slownik.items(), \n",
    "    key=lambda x: str(x)\n",
    ")"
   ]
  },
  {
   "cell_type": "code",
   "execution_count": null,
   "id": "5bad93d8",
   "metadata": {},
   "outputs": [],
   "source": [
    "\"klucz\" < (1, 2)"
   ]
  },
  {
   "cell_type": "code",
   "execution_count": null,
   "id": "b3523daa",
   "metadata": {},
   "outputs": [],
   "source": [
    "slownik.pop(\"klucz\")"
   ]
  },
  {
   "cell_type": "code",
   "execution_count": null,
   "id": "725b168c",
   "metadata": {},
   "outputs": [],
   "source": [
    "slownik.popitem()"
   ]
  },
  {
   "cell_type": "code",
   "execution_count": null,
   "id": "3e6a33f0",
   "metadata": {},
   "outputs": [],
   "source": [
    "from collections import defaultdict"
   ]
  },
  {
   "cell_type": "code",
   "execution_count": null,
   "id": "fc237c8b",
   "metadata": {},
   "outputs": [],
   "source": [
    "zliczenia = defaultdict(int)"
   ]
  },
  {
   "cell_type": "code",
   "execution_count": null,
   "id": "ad4e8660",
   "metadata": {},
   "outputs": [],
   "source": [
    "zliczenia[\"10\"] += 1"
   ]
  },
  {
   "cell_type": "code",
   "execution_count": null,
   "id": "0c73f727",
   "metadata": {},
   "outputs": [],
   "source": [
    "zliczenia[\"10\"]"
   ]
  },
  {
   "cell_type": "code",
   "execution_count": null,
   "id": "5da81fa5",
   "metadata": {},
   "outputs": [],
   "source": [
    "from collections import Counter\n",
    "\n",
    "x = \"ababababa ccdc dc dsc\"\n",
    "\n",
    "Counter(x)"
   ]
  },
  {
   "cell_type": "markdown",
   "id": "0630f93e",
   "metadata": {},
   "source": [
    "PCEP-30-02 3.4 Operate with strings\n",
    "\n",
    "    constructing strings\n",
    "    indexing, slicing, immutability\n",
    "    escaping using the \\ character\n",
    "    quotes and apostrophes inside strings\n",
    "    multi-line strings\n",
    "    basic string functions and methods"
   ]
  },
  {
   "cell_type": "code",
   "execution_count": null,
   "id": "134f4c9f",
   "metadata": {},
   "outputs": [],
   "source": [
    "# dir(\"\")"
   ]
  },
  {
   "cell_type": "markdown",
   "id": "1641cc70",
   "metadata": {},
   "source": [
    "## Functions and Exceptions\n",
    "\n",
    "PCEP-30-02 4.1 – Decompose the code using functions\n",
    "\n",
    "    defining and invoking user-defined functions and generators\n",
    "    the return keyword, returning results\n",
    "    the None keyword\n",
    "    recursion\n",
    "    "
   ]
  },
  {
   "cell_type": "code",
   "execution_count": null,
   "id": "edda8ec3",
   "metadata": {},
   "outputs": [],
   "source": [
    "def circle_area(r: float) -> float:  # sygnatura funkcji\n",
    "    \"\"\"Liczy pole powierzchni koła\"\"\"  # docstring\n",
    "    return 3.14 * r ** 2      # ciało funkcji"
   ]
  },
  {
   "cell_type": "code",
   "execution_count": null,
   "id": "70140494",
   "metadata": {},
   "outputs": [],
   "source": [
    "help(circle_area)"
   ]
  },
  {
   "cell_type": "code",
   "execution_count": null,
   "id": "6fa3a8e1",
   "metadata": {},
   "outputs": [],
   "source": [
    "circle_area(10)"
   ]
  },
  {
   "cell_type": "code",
   "execution_count": null,
   "id": "282678b6",
   "metadata": {},
   "outputs": [],
   "source": [
    "def foo(): pass\n",
    "\n",
    "\n",
    "def foo():\n",
    "    return None"
   ]
  },
  {
   "cell_type": "code",
   "execution_count": null,
   "id": "db6dd85d",
   "metadata": {},
   "outputs": [],
   "source": [
    "type(foo)"
   ]
  },
  {
   "cell_type": "code",
   "execution_count": null,
   "id": "eab6801c",
   "metadata": {},
   "outputs": [],
   "source": [
    "type(foo())"
   ]
  },
  {
   "cell_type": "code",
   "execution_count": null,
   "id": "386f1f42",
   "metadata": {},
   "outputs": [],
   "source": [
    "def sumator(a: int, b: int) -> int:\n",
    "    return a + b"
   ]
  },
  {
   "cell_type": "code",
   "execution_count": null,
   "id": "3dfce506",
   "metadata": {},
   "outputs": [],
   "source": [
    "sumator(10, 20)"
   ]
  },
  {
   "cell_type": "code",
   "execution_count": null,
   "id": "eb54f9a0",
   "metadata": {},
   "outputs": [],
   "source": [
    "sumator(10, 20, 20)"
   ]
  },
  {
   "cell_type": "code",
   "execution_count": null,
   "id": "41cd53ec",
   "metadata": {},
   "outputs": [],
   "source": [
    "sumator(10)"
   ]
  },
  {
   "cell_type": "code",
   "execution_count": null,
   "id": "a612c610",
   "metadata": {},
   "outputs": [],
   "source": [
    "def incrementator(a: int, step: int = 1) -> int:\n",
    "    return a + step"
   ]
  },
  {
   "cell_type": "code",
   "execution_count": null,
   "id": "95053080",
   "metadata": {},
   "outputs": [],
   "source": [
    "incrementator(10)"
   ]
  },
  {
   "cell_type": "code",
   "execution_count": null,
   "id": "1ce1b9fc",
   "metadata": {},
   "outputs": [],
   "source": [
    "incrementator(10, 3)"
   ]
  },
  {
   "cell_type": "code",
   "execution_count": null,
   "id": "da620f30",
   "metadata": {},
   "outputs": [],
   "source": [
    "# incrementator(10, 3, 2)"
   ]
  },
  {
   "cell_type": "code",
   "execution_count": null,
   "id": "a1148512",
   "metadata": {},
   "outputs": [],
   "source": [
    "incrementator(step=10, a=3)"
   ]
  },
  {
   "cell_type": "code",
   "execution_count": null,
   "id": "14529a71",
   "metadata": {},
   "outputs": [],
   "source": [
    "incrementator(a=10, step=3)"
   ]
  },
  {
   "cell_type": "code",
   "execution_count": null,
   "id": "1a504229",
   "metadata": {},
   "outputs": [],
   "source": [
    "incrementator(10, step=3)"
   ]
  },
  {
   "cell_type": "code",
   "execution_count": null,
   "id": "049ff776",
   "metadata": {},
   "outputs": [],
   "source": [
    "# incrementator(a=10, 3)"
   ]
  },
  {
   "cell_type": "code",
   "execution_count": null,
   "id": "4675f71f",
   "metadata": {},
   "outputs": [],
   "source": [
    "def incrementator(a: int, /,  step: int = 1) -> int:\n",
    "    return a + step"
   ]
  },
  {
   "cell_type": "code",
   "execution_count": null,
   "id": "98138eb2",
   "metadata": {},
   "outputs": [],
   "source": [
    "incrementator(1, 2)"
   ]
  },
  {
   "cell_type": "code",
   "execution_count": null,
   "id": "c5f665e5",
   "metadata": {},
   "outputs": [],
   "source": [
    "incrementator(1, step=2)"
   ]
  },
  {
   "cell_type": "code",
   "execution_count": null,
   "id": "e086fc01",
   "metadata": {},
   "outputs": [],
   "source": [
    "incrementator(a=1, step=2)"
   ]
  },
  {
   "cell_type": "code",
   "execution_count": null,
   "id": "7ef6b69c",
   "metadata": {},
   "outputs": [],
   "source": [
    "def incrementator(a: int, /, *, step: int = 1) -> int:\n",
    "    return a + step"
   ]
  },
  {
   "cell_type": "code",
   "execution_count": null,
   "id": "6906b938",
   "metadata": {},
   "outputs": [],
   "source": [
    "incrementator(1, step=2)"
   ]
  },
  {
   "cell_type": "code",
   "execution_count": null,
   "id": "21a58eee",
   "metadata": {},
   "outputs": [],
   "source": [
    "def sumator(a: int, b: int, *skladniki) -> int:\n",
    "    print(skladniki)\n",
    "    return a + b\n",
    "\n",
    "# sumator()\n",
    "# sumator(1)\n",
    "sumator(1, 2)\n",
    "sumator(1, 2, 2, 3)\n",
    "sumator(1, 2, 2, 3, 1, 2 , 3, 4)\n",
    "\n",
    "sumator(a=1, b=2)\n",
    "sumator(1, 2, 2, 3)\n",
    "# sumator(2, 3, 1, 2 , 3, 4, a=1, b=2)\n"
   ]
  },
  {
   "cell_type": "code",
   "execution_count": null,
   "id": "9665e4d9",
   "metadata": {},
   "outputs": [],
   "source": [
    "def func(*args, **kwargs):\n",
    "    print(args)\n",
    "    print(kwargs)\n",
    "    \n",
    "\n",
    "\n",
    "func()\n",
    "func(a=1, b=2)\n",
    "func(1, 2, 3, 4, c=2, dd=23)"
   ]
  },
  {
   "cell_type": "code",
   "execution_count": null,
   "id": "dc429515",
   "metadata": {},
   "outputs": [],
   "source": [
    "def foo(a, b, /, *args, c=1, d=2, **kwargs):\n",
    "    print(f\"a:{a} b:{b} c:{c} d:{d} args: {args} kwargs:{kwargs}\")"
   ]
  },
  {
   "cell_type": "code",
   "execution_count": null,
   "id": "6055896e",
   "metadata": {},
   "outputs": [],
   "source": [
    "foo(1, 2, 4, 5, 6, d=12, e=1, f=2)"
   ]
  },
  {
   "cell_type": "code",
   "execution_count": null,
   "id": "c1948e5b",
   "metadata": {},
   "outputs": [],
   "source": [
    "foo(a=1, b=2, d=12, e=1, f=2)"
   ]
  },
  {
   "cell_type": "code",
   "execution_count": null,
   "id": "9dfb6531",
   "metadata": {},
   "outputs": [],
   "source": [
    "def add(a, b): return a + b\n",
    "def sub(a, b): return a - b"
   ]
  },
  {
   "cell_type": "code",
   "execution_count": null,
   "id": "b90cef75",
   "metadata": {},
   "outputs": [],
   "source": [
    "operacje = [add, sub]"
   ]
  },
  {
   "cell_type": "code",
   "execution_count": null,
   "id": "ecdb6022",
   "metadata": {},
   "outputs": [],
   "source": [
    "for op in operacje:\n",
    "    print(op(1, 2))"
   ]
  },
  {
   "cell_type": "code",
   "execution_count": null,
   "id": "d9e937b3",
   "metadata": {},
   "outputs": [],
   "source": [
    "operations = {\n",
    "    \"+\": add,\n",
    "    \"-\": sub\n",
    "}"
   ]
  },
  {
   "cell_type": "code",
   "execution_count": null,
   "id": "2912584f",
   "metadata": {},
   "outputs": [],
   "source": [
    "op = \"+\"\n",
    "operations[op](1, 2)"
   ]
  },
  {
   "cell_type": "code",
   "execution_count": null,
   "id": "da114dd6",
   "metadata": {},
   "outputs": [],
   "source": [
    "from typing import Callable\n",
    "\n",
    "def two_args_handler(func: Callable, args: list[int]) -> int:\n",
    "    return func(args[0], args[1])\n"
   ]
  },
  {
   "cell_type": "code",
   "execution_count": null,
   "id": "5c515036",
   "metadata": {},
   "outputs": [],
   "source": [
    "two_args_handler(add, [1, 2])"
   ]
  },
  {
   "cell_type": "code",
   "execution_count": null,
   "id": "7f9af931",
   "metadata": {},
   "outputs": [],
   "source": [
    "# rekurencja  3! = 3 * 2!  0! = 1"
   ]
  },
  {
   "cell_type": "code",
   "execution_count": null,
   "id": "2c6b39de",
   "metadata": {},
   "outputs": [],
   "source": [
    "def silnia(n):\n",
    "    if n == 0:\n",
    "        return 1\n",
    "    return n * silnia(n-1)\n"
   ]
  },
  {
   "cell_type": "code",
   "execution_count": null,
   "id": "073d876a",
   "metadata": {},
   "outputs": [],
   "source": [
    "silnia(5)"
   ]
  },
  {
   "cell_type": "code",
   "execution_count": null,
   "id": "8d3db0c2",
   "metadata": {},
   "outputs": [],
   "source": [
    "def licznik(n):\n",
    "    print(n)\n",
    "    licznik(n+1)"
   ]
  },
  {
   "cell_type": "code",
   "execution_count": null,
   "id": "837f68d1",
   "metadata": {},
   "outputs": [],
   "source": [
    "licznik(10)"
   ]
  },
  {
   "cell_type": "code",
   "execution_count": null,
   "id": "06f0f6b9",
   "metadata": {},
   "outputs": [],
   "source": [
    "lista = [1, 2, 3, [1,2 ,3, [4, 5], 12]]\n",
    "\n",
    "\n",
    "def splaszcz(lista):\n",
    "    result = []\n",
    "    for el in lista:\n",
    "        if not type(el) is list:\n",
    "            result.append(el)\n",
    "        else:\n",
    "            for x in splaszcz(el):\n",
    "                result.append(x)\n",
    "    \n",
    "    return result\n",
    "\n",
    "splaszcz(lista) == [1, 2, 3, 1, 2, 3, 4, 5, 12]\n",
    "splaszcz(lista)"
   ]
  },
  {
   "cell_type": "code",
   "execution_count": null,
   "id": "b2013019",
   "metadata": {},
   "outputs": [],
   "source": []
  },
  {
   "cell_type": "markdown",
   "id": "f9613e64",
   "metadata": {},
   "source": [
    "PCEP-30-02 4.2 – Organize interaction between the function and its environment\n",
    "\n",
    "    parameters vs. arguments\n",
    "    positional, keyword, and mixed argument passing\n",
    "    default parameter values\n",
    "    name scopes, name hiding (shadowing), and the global keyword"
   ]
  },
  {
   "cell_type": "code",
   "execution_count": null,
   "id": "073dad53",
   "metadata": {},
   "outputs": [],
   "source": [
    "# wyczyść dane. (Kernel => restaer & clean)\n",
    "\n",
    "a = 1\n",
    "\n",
    "def foo():\n",
    "    print(a)\n",
    "    \n",
    "foo()\n"
   ]
  },
  {
   "cell_type": "code",
   "execution_count": 9,
   "id": "2f06fc4b",
   "metadata": {},
   "outputs": [
    {
     "name": "stdout",
     "output_type": "stream",
     "text": [
      "Overwriting przestrzenie.py\n"
     ]
    }
   ],
   "source": [
    "%%writefile przestrzenie.py\n",
    "a = 1      # znajduje się w przestrzeni globalnej\n",
    "\n",
    "def foo():\n",
    "    global a\n",
    "    a = 2  # to a jest w przestrzeni lokalnej\n",
    "    print(\"in foo:\", a)\n",
    "    print(locals())\n",
    "    print(globals())\n",
    "    \n",
    "print()\n",
    "print()\n",
    "print(\"before\", a)    \n",
    "foo()\n",
    "print(\"after\", a)    \n",
    "\n",
    "print()\n",
    "print()\n",
    "print(locals())\n",
    "print(globals())\n",
    "\n"
   ]
  },
  {
   "cell_type": "code",
   "execution_count": 18,
   "id": "613e4ea0",
   "metadata": {},
   "outputs": [
    {
     "name": "stdout",
     "output_type": "stream",
     "text": [
      "przed b z funkcji foo\n",
      "b z funkcji bar\n",
      "po b z funkcji bar\n"
     ]
    },
    {
     "ename": "NameError",
     "evalue": "name 'bar' is not defined",
     "output_type": "error",
     "traceback": [
      "\u001b[0;31m---------------------------------------------------------------------------\u001b[0m",
      "\u001b[0;31mNameError\u001b[0m                                 Traceback (most recent call last)",
      "Cell \u001b[0;32mIn[18], line 18\u001b[0m\n\u001b[1;32m     14\u001b[0m     \u001b[38;5;28mprint\u001b[39m(\u001b[38;5;124m\"\u001b[39m\u001b[38;5;124mpo\u001b[39m\u001b[38;5;124m\"\u001b[39m, b)\n\u001b[1;32m     16\u001b[0m foo()\n\u001b[0;32m---> 18\u001b[0m \u001b[43mbar\u001b[49m()\n",
      "\u001b[0;31mNameError\u001b[0m: name 'bar' is not defined"
     ]
    }
   ],
   "source": [
    "# %%writefile przestrzenie2.py\n",
    "a = 1      # znajduje się w przestrzeni globalnej\n",
    "\n",
    "def foo():\n",
    "    b = \"b z funkcji foo\"\n",
    "    \n",
    "    def bar():\n",
    "        nonlocal b\n",
    "        b = \"b z funkcji bar\"\n",
    "        print(b)\n",
    "    \n",
    "    print(\"przed\", b)\n",
    "    bar()\n",
    "    print(\"po\", b)\n",
    "\n",
    "foo()\n",
    "\n",
    "bar()"
   ]
  },
  {
   "cell_type": "code",
   "execution_count": 14,
   "id": "2895fdd6",
   "metadata": {},
   "outputs": [
    {
     "name": "stdout",
     "output_type": "stream",
     "text": [
      "\r\n",
      "\r\n",
      "before 1\r\n",
      "in foo: 2\r\n",
      "{}\r\n",
      "{'__name__': '__main__', '__doc__': None, '__package__': None, '__loader__': <_frozen_importlib_external.SourceFileLoader object at 0x100d45150>, '__spec__': None, '__annotations__': {}, '__builtins__': <module 'builtins' (built-in)>, '__file__': '/Users/rkorzen/PycharmProjects/szkolenia/itm/ITM_python_PCEP_30_02_gr_2/przestrzenie.py', '__cached__': None, 'a': 2, 'foo': <function foo at 0x100d6d080>}\r\n",
      "after 2\r\n",
      "\r\n",
      "\r\n",
      "{'__name__': '__main__', '__doc__': None, '__package__': None, '__loader__': <_frozen_importlib_external.SourceFileLoader object at 0x100d45150>, '__spec__': None, '__annotations__': {}, '__builtins__': <module 'builtins' (built-in)>, '__file__': '/Users/rkorzen/PycharmProjects/szkolenia/itm/ITM_python_PCEP_30_02_gr_2/przestrzenie.py', '__cached__': None, 'a': 2, 'foo': <function foo at 0x100d6d080>}\r\n",
      "{'__name__': '__main__', '__doc__': None, '__package__': None, '__loader__': <_frozen_importlib_external.SourceFileLoader object at 0x100d45150>, '__spec__': None, '__annotations__': {}, '__builtins__': <module 'builtins' (built-in)>, '__file__': '/Users/rkorzen/PycharmProjects/szkolenia/itm/ITM_python_PCEP_30_02_gr_2/przestrzenie.py', '__cached__': None, 'a': 2, 'foo': <function foo at 0x100d6d080>}\r\n"
     ]
    }
   ],
   "source": [
    "!python przestrzenie.py"
   ]
  },
  {
   "cell_type": "code",
   "execution_count": 19,
   "id": "718afda2",
   "metadata": {},
   "outputs": [
    {
     "data": {
      "text/plain": [
       "<generator object <genexpr> at 0x10ecbdfc0>"
      ]
     },
     "execution_count": 19,
     "metadata": {},
     "output_type": "execute_result"
    }
   ],
   "source": [
    "# generatory\n",
    "\n",
    "(x for x in range(10))"
   ]
  },
  {
   "cell_type": "code",
   "execution_count": 26,
   "id": "d5b18321",
   "metadata": {},
   "outputs": [
    {
     "data": {
      "text/plain": [
       "<generator object my_gen_definition at 0x10f606a40>"
      ]
     },
     "execution_count": 26,
     "metadata": {},
     "output_type": "execute_result"
    }
   ],
   "source": [
    "def my_gen_definition():\n",
    "    yield 1\n",
    "    yield 2\n",
    "    \n",
    "\n",
    "my_gen = my_gen_definition()\n",
    "my_gen"
   ]
  },
  {
   "cell_type": "code",
   "execution_count": 27,
   "id": "5aa7a35d",
   "metadata": {},
   "outputs": [
    {
     "name": "stdout",
     "output_type": "stream",
     "text": [
      "1\n",
      "2\n"
     ]
    }
   ],
   "source": [
    "for el in my_gen:\n",
    "    print(el)"
   ]
  },
  {
   "cell_type": "code",
   "execution_count": 28,
   "id": "792cbd5a",
   "metadata": {},
   "outputs": [],
   "source": [
    "for el in my_gen:\n",
    "    print(el)"
   ]
  },
  {
   "cell_type": "code",
   "execution_count": 29,
   "id": "242565b0",
   "metadata": {},
   "outputs": [],
   "source": [
    "my_gen = my_gen_definition()"
   ]
  },
  {
   "cell_type": "code",
   "execution_count": 32,
   "id": "5dba3535",
   "metadata": {},
   "outputs": [
    {
     "ename": "StopIteration",
     "evalue": "",
     "output_type": "error",
     "traceback": [
      "\u001b[0;31m---------------------------------------------------------------------------\u001b[0m",
      "\u001b[0;31mStopIteration\u001b[0m                             Traceback (most recent call last)",
      "Cell \u001b[0;32mIn[32], line 1\u001b[0m\n\u001b[0;32m----> 1\u001b[0m \u001b[38;5;28;43mnext\u001b[39;49m\u001b[43m(\u001b[49m\u001b[43mmy_gen\u001b[49m\u001b[43m)\u001b[49m\n",
      "\u001b[0;31mStopIteration\u001b[0m: "
     ]
    }
   ],
   "source": [
    "next(my_gen)"
   ]
  },
  {
   "cell_type": "code",
   "execution_count": 37,
   "id": "ed2cb5ed",
   "metadata": {},
   "outputs": [],
   "source": [
    "def incr(start=1):\n",
    "    while True:\n",
    "        yield start\n",
    "        start += 1\n",
    "    \n",
    "g = incr()"
   ]
  },
  {
   "cell_type": "code",
   "execution_count": 64,
   "id": "539eb79d",
   "metadata": {},
   "outputs": [
    {
     "data": {
      "text/plain": [
       "27"
      ]
     },
     "execution_count": 64,
     "metadata": {},
     "output_type": "execute_result"
    }
   ],
   "source": [
    "next(g)"
   ]
  },
  {
   "cell_type": "markdown",
   "id": "d241a58e",
   "metadata": {},
   "source": [
    "PCEP-30-02 4.3 – Python Built-In Exceptions Hierarchy\n",
    "\n",
    "    BaseException\n",
    "    Exception\n",
    "    SystemExit\n",
    "    KeyboardInterrupt\n",
    "    abstract exceptions\n",
    "    ArithmeticError\n",
    "    LookupError\n",
    "    IndexError\n",
    "    KeyError\n",
    "    TypeError\n",
    "    ValueError\n",
    "\n",
    "PCEP-30-02 4.4 – Basics of Python Exception Handling\n",
    "\n",
    "    try-except / the try-except Exception\n",
    "    ordering the except branches\n",
    "    propagating exceptions through function boundaries\n",
    "    delegating responsibility for handling exceptions"
   ]
  },
  {
   "cell_type": "code",
   "execution_count": 76,
   "id": "417674fa",
   "metadata": {},
   "outputs": [
    {
     "name": "stdout",
     "output_type": "stream",
     "text": [
      "Złe typu\n",
      "Dzielone przez zero\n"
     ]
    },
    {
     "ename": "ZeroDivisionError",
     "evalue": "division by zero",
     "output_type": "error",
     "traceback": [
      "\u001b[0;31m---------------------------------------------------------------------------\u001b[0m",
      "\u001b[0;31mZeroDivisionError\u001b[0m                         Traceback (most recent call last)",
      "Cell \u001b[0;32mIn[76], line 11\u001b[0m\n\u001b[1;32m      9\u001b[0m \u001b[38;5;28;01mexcept\u001b[39;00m \u001b[38;5;167;01mZeroDivisionError\u001b[39;00m \u001b[38;5;28;01mas\u001b[39;00m e:\n\u001b[1;32m     10\u001b[0m     \u001b[38;5;28mprint\u001b[39m(\u001b[38;5;124m\"\u001b[39m\u001b[38;5;124mDzielone przez zero\u001b[39m\u001b[38;5;124m\"\u001b[39m)\n\u001b[0;32m---> 11\u001b[0m     \u001b[38;5;28;01mraise\u001b[39;00m e\n\u001b[1;32m     13\u001b[0m \u001b[38;5;28;01mexcept\u001b[39;00m \u001b[38;5;167;01mException\u001b[39;00m:\n\u001b[1;32m     14\u001b[0m     \u001b[38;5;28mprint\u001b[39m(\u001b[38;5;124m\"\u001b[39m\u001b[38;5;124mCoś innego złęgo się zadziało\u001b[39m\u001b[38;5;124m\"\u001b[39m)   \n",
      "Cell \u001b[0;32mIn[76], line 6\u001b[0m\n\u001b[1;32m      4\u001b[0m     \u001b[38;5;28mprint\u001b[39m(\u001b[38;5;124m\"\u001b[39m\u001b[38;5;124mZłe typu\u001b[39m\u001b[38;5;124m\"\u001b[39m)\n\u001b[1;32m      5\u001b[0m \u001b[38;5;28;01mtry\u001b[39;00m:\n\u001b[0;32m----> 6\u001b[0m     \u001b[38;5;241;43m1\u001b[39;49m\u001b[43m \u001b[49m\u001b[38;5;241;43m/\u001b[39;49m\u001b[43m \u001b[49m\u001b[38;5;241;43m0\u001b[39;49m\n\u001b[1;32m      7\u001b[0m \u001b[38;5;66;03m#     raise ValueError(\"xxx\")\u001b[39;00m\n\u001b[1;32m      9\u001b[0m \u001b[38;5;28;01mexcept\u001b[39;00m \u001b[38;5;167;01mZeroDivisionError\u001b[39;00m \u001b[38;5;28;01mas\u001b[39;00m e:\n",
      "\u001b[0;31mZeroDivisionError\u001b[0m: division by zero"
     ]
    }
   ],
   "source": [
    "try:\n",
    "    1 + \"1\"\n",
    "except TypeError:\n",
    "    print(\"Złe typu\")\n",
    "try:\n",
    "    1 / 0\n",
    "#     raise ValueError(\"xxx\")\n",
    "\n",
    "except ZeroDivisionError as e:\n",
    "    print(\"Dzielone przez zero\")\n",
    "    raise e\n",
    "\n",
    "except Exception:\n",
    "    print(\"Coś innego złęgo się zadziało\")   \n"
   ]
  },
  {
   "cell_type": "code",
   "execution_count": 92,
   "id": "2b43a986",
   "metadata": {},
   "outputs": [],
   "source": [
    "def dzielenie(a, b):\n",
    "    try:\n",
    "        return a/b\n",
    "    except ZeroDivisionError:\n",
    "        print(\"Nie dziel przez zero\")\n",
    "        raise ValueError(\"b nie moze być 0\")"
   ]
  },
  {
   "cell_type": "code",
   "execution_count": 93,
   "id": "205494f9",
   "metadata": {},
   "outputs": [
    {
     "name": "stdout",
     "output_type": "stream",
     "text": [
      "Nie dziel przez zero\n",
      "10\n"
     ]
    }
   ],
   "source": [
    "def handler():\n",
    "    \n",
    "    try:\n",
    "        wynik = dzielenie(1, 0)\n",
    "    except ValueError:\n",
    "        wynik = 0\n",
    "    try:\n",
    "        print(wynik+10)\n",
    "    except TypeError:\n",
    "        print(\"Coś poszło nie tak\")\n",
    "\n",
    "handler()"
   ]
  },
  {
   "cell_type": "code",
   "execution_count": 96,
   "id": "d34ff565",
   "metadata": {},
   "outputs": [
    {
     "name": "stdout",
     "output_type": "stream",
     "text": [
      "Ja tu tylko sprzątam\n"
     ]
    },
    {
     "ename": "TypeError",
     "evalue": "unsupported operand type(s) for +: 'int' and 'str'",
     "output_type": "error",
     "traceback": [
      "\u001b[0;31m---------------------------------------------------------------------------\u001b[0m",
      "\u001b[0;31mZeroDivisionError\u001b[0m                         Traceback (most recent call last)",
      "Cell \u001b[0;32mIn[96], line 2\u001b[0m\n\u001b[1;32m      1\u001b[0m \u001b[38;5;28;01mtry\u001b[39;00m:\n\u001b[0;32m----> 2\u001b[0m     \u001b[38;5;241;43m1\u001b[39;49m\u001b[38;5;241;43m/\u001b[39;49m\u001b[38;5;241;43m0\u001b[39;49m\n\u001b[1;32m      3\u001b[0m \u001b[38;5;28;01mexcept\u001b[39;00m \u001b[38;5;167;01mZeroDivisionError\u001b[39;00m:\n",
      "\u001b[0;31mZeroDivisionError\u001b[0m: division by zero",
      "\nDuring handling of the above exception, another exception occurred:\n",
      "\u001b[0;31mTypeError\u001b[0m                                 Traceback (most recent call last)",
      "Cell \u001b[0;32mIn[96], line 4\u001b[0m\n\u001b[1;32m      2\u001b[0m     \u001b[38;5;241m1\u001b[39m\u001b[38;5;241m/\u001b[39m\u001b[38;5;241m0\u001b[39m\n\u001b[1;32m      3\u001b[0m \u001b[38;5;28;01mexcept\u001b[39;00m \u001b[38;5;167;01mZeroDivisionError\u001b[39;00m:\n\u001b[0;32m----> 4\u001b[0m     \u001b[38;5;241;43m1\u001b[39;49m\u001b[43m \u001b[49m\u001b[38;5;241;43m+\u001b[39;49m\u001b[43m \u001b[49m\u001b[38;5;124;43m\"\u001b[39;49m\u001b[38;5;124;43m1\u001b[39;49m\u001b[38;5;124;43m\"\u001b[39;49m\n\u001b[1;32m      5\u001b[0m     \u001b[38;5;28mprint\u001b[39m(\u001b[38;5;124m\"\u001b[39m\u001b[38;5;124m ...\u001b[39m\u001b[38;5;124m\"\u001b[39m)\n\u001b[1;32m      6\u001b[0m \u001b[38;5;28;01mfinally\u001b[39;00m:\n",
      "\u001b[0;31mTypeError\u001b[0m: unsupported operand type(s) for +: 'int' and 'str'"
     ]
    }
   ],
   "source": [
    "try:\n",
    "    1/0\n",
    "except ZeroDivisionError:\n",
    "    #     1 + \"1\"\n",
    "    print(\" ...\")\n",
    "finally:\n",
    "    print(\"Ja tu tylko sprzątam\")"
   ]
  },
  {
   "cell_type": "code",
   "execution_count": 99,
   "id": "fb6ef13a",
   "metadata": {},
   "outputs": [
    {
     "ename": "ZeroDivisionError",
     "evalue": "division by zero",
     "output_type": "error",
     "traceback": [
      "\u001b[0;31m---------------------------------------------------------------------------\u001b[0m",
      "\u001b[0;31mZeroDivisionError\u001b[0m                         Traceback (most recent call last)",
      "Cell \u001b[0;32mIn[99], line 4\u001b[0m\n\u001b[1;32m      2\u001b[0m     f \u001b[38;5;241m=\u001b[39m \u001b[38;5;28mopen\u001b[39m(\u001b[38;5;124m\"\u001b[39m\u001b[38;5;124mxxx.csv\u001b[39m\u001b[38;5;124m\"\u001b[39m, \u001b[38;5;124m\"\u001b[39m\u001b[38;5;124mw\u001b[39m\u001b[38;5;124m\"\u001b[39m)\n\u001b[1;32m      3\u001b[0m     f\u001b[38;5;241m.\u001b[39mwrite(\u001b[38;5;124m\"\u001b[39m\u001b[38;5;124mxxx,xxx\u001b[39m\u001b[38;5;124m\"\u001b[39m)\n\u001b[0;32m----> 4\u001b[0m     \u001b[38;5;241;43m1\u001b[39;49m\u001b[38;5;241;43m/\u001b[39;49m\u001b[38;5;241;43m0\u001b[39;49m\n\u001b[1;32m      5\u001b[0m \u001b[38;5;28;01mfinally\u001b[39;00m:\n\u001b[1;32m      6\u001b[0m     f\u001b[38;5;241m.\u001b[39mclose()\n",
      "\u001b[0;31mZeroDivisionError\u001b[0m: division by zero"
     ]
    }
   ],
   "source": [
    "try:\n",
    "    f = open(\"xxx.csv\", \"w\")\n",
    "    f.write(\"xxx,xxx\")\n",
    "    1/0\n",
    "finally:\n",
    "    f.close()\n"
   ]
  },
  {
   "cell_type": "code",
   "execution_count": 100,
   "id": "c4d68004",
   "metadata": {},
   "outputs": [
    {
     "name": "stdout",
     "output_type": "stream",
     "text": [
      "<_io.TextIOWrapper name='xxx.csv' mode='w' encoding='UTF-8'>\n"
     ]
    }
   ],
   "source": [
    "print(f)"
   ]
  },
  {
   "cell_type": "code",
   "execution_count": 102,
   "id": "43e3d1c9",
   "metadata": {},
   "outputs": [
    {
     "data": {
      "text/plain": [
       "True"
      ]
     },
     "execution_count": 102,
     "metadata": {},
     "output_type": "execute_result"
    }
   ],
   "source": [
    "f.closed"
   ]
  },
  {
   "cell_type": "code",
   "execution_count": 103,
   "id": "9b5f4d74",
   "metadata": {},
   "outputs": [
    {
     "ename": "ZeroDivisionError",
     "evalue": "division by zero",
     "output_type": "error",
     "traceback": [
      "\u001b[0;31m---------------------------------------------------------------------------\u001b[0m",
      "\u001b[0;31mZeroDivisionError\u001b[0m                         Traceback (most recent call last)",
      "Cell \u001b[0;32mIn[103], line 3\u001b[0m\n\u001b[1;32m      1\u001b[0m \u001b[38;5;28;01mwith\u001b[39;00m \u001b[38;5;28mopen\u001b[39m(\u001b[38;5;124m\"\u001b[39m\u001b[38;5;124mxxx.csv\u001b[39m\u001b[38;5;124m\"\u001b[39m, \u001b[38;5;124m\"\u001b[39m\u001b[38;5;124mw\u001b[39m\u001b[38;5;124m\"\u001b[39m) \u001b[38;5;28;01mas\u001b[39;00m g:\n\u001b[1;32m      2\u001b[0m     g\u001b[38;5;241m.\u001b[39mwrite(\u001b[38;5;124m\"\u001b[39m\u001b[38;5;124m10\u001b[39m\u001b[38;5;124m\"\u001b[39m)\n\u001b[0;32m----> 3\u001b[0m     \u001b[38;5;241;43m1\u001b[39;49m\u001b[38;5;241;43m/\u001b[39;49m\u001b[38;5;241;43m0\u001b[39;49m\n",
      "\u001b[0;31mZeroDivisionError\u001b[0m: division by zero"
     ]
    }
   ],
   "source": [
    "with open(\"xxx.csv\", \"w\") as g:\n",
    "    g.write(\"10\")\n",
    "    1/0"
   ]
  },
  {
   "cell_type": "code",
   "execution_count": 105,
   "id": "6f92e702",
   "metadata": {},
   "outputs": [
    {
     "data": {
      "text/plain": [
       "True"
      ]
     },
     "execution_count": 105,
     "metadata": {},
     "output_type": "execute_result"
    }
   ],
   "source": [
    "g.closed"
   ]
  },
  {
   "cell_type": "code",
   "execution_count": 108,
   "id": "2793f943",
   "metadata": {},
   "outputs": [
    {
     "data": {
      "text/plain": [
       "ValueError"
      ]
     },
     "execution_count": 108,
     "metadata": {},
     "output_type": "execute_result"
    }
   ],
   "source": [
    "BaseException\n",
    "Exception\n",
    "SystemExit\n",
    "KeyboardInterrupt\n",
    "\n",
    "\n",
    "ArithmeticError\n",
    "LookupError\n",
    "IndexError\n",
    "KeyError\n",
    "TypeError\n",
    "ValueError\n"
   ]
  },
  {
   "cell_type": "code",
   "execution_count": 109,
   "id": "20770104",
   "metadata": {},
   "outputs": [
    {
     "data": {
      "text/plain": [
       "['ArithmeticError',\n",
       " 'AssertionError',\n",
       " 'AttributeError',\n",
       " 'BaseException',\n",
       " 'BlockingIOError',\n",
       " 'BrokenPipeError',\n",
       " 'BufferError',\n",
       " 'BytesWarning',\n",
       " 'ChildProcessError',\n",
       " 'ConnectionAbortedError',\n",
       " 'ConnectionError',\n",
       " 'ConnectionRefusedError',\n",
       " 'ConnectionResetError',\n",
       " 'DeprecationWarning',\n",
       " 'EOFError',\n",
       " 'Ellipsis',\n",
       " 'EncodingWarning',\n",
       " 'EnvironmentError',\n",
       " 'Exception',\n",
       " 'False',\n",
       " 'FileExistsError',\n",
       " 'FileNotFoundError',\n",
       " 'FloatingPointError',\n",
       " 'FutureWarning',\n",
       " 'GeneratorExit',\n",
       " 'IOError',\n",
       " 'ImportError',\n",
       " 'ImportWarning',\n",
       " 'IndentationError',\n",
       " 'IndexError',\n",
       " 'InterruptedError',\n",
       " 'IsADirectoryError',\n",
       " 'KeyError',\n",
       " 'KeyboardInterrupt',\n",
       " 'LookupError',\n",
       " 'MemoryError',\n",
       " 'ModuleNotFoundError',\n",
       " 'NameError',\n",
       " 'None',\n",
       " 'NotADirectoryError',\n",
       " 'NotImplemented',\n",
       " 'NotImplementedError',\n",
       " 'OSError',\n",
       " 'OverflowError',\n",
       " 'PendingDeprecationWarning',\n",
       " 'PermissionError',\n",
       " 'ProcessLookupError',\n",
       " 'RecursionError',\n",
       " 'ReferenceError',\n",
       " 'ResourceWarning',\n",
       " 'RuntimeError',\n",
       " 'RuntimeWarning',\n",
       " 'StopAsyncIteration',\n",
       " 'StopIteration',\n",
       " 'SyntaxError',\n",
       " 'SyntaxWarning',\n",
       " 'SystemError',\n",
       " 'SystemExit',\n",
       " 'TabError',\n",
       " 'TimeoutError',\n",
       " 'True',\n",
       " 'TypeError',\n",
       " 'UnboundLocalError',\n",
       " 'UnicodeDecodeError',\n",
       " 'UnicodeEncodeError',\n",
       " 'UnicodeError',\n",
       " 'UnicodeTranslateError',\n",
       " 'UnicodeWarning',\n",
       " 'UserWarning',\n",
       " 'ValueError',\n",
       " 'Warning',\n",
       " 'ZeroDivisionError',\n",
       " '__IPYTHON__',\n",
       " '__build_class__',\n",
       " '__debug__',\n",
       " '__doc__',\n",
       " '__import__',\n",
       " '__loader__',\n",
       " '__name__',\n",
       " '__package__',\n",
       " '__spec__',\n",
       " 'abs',\n",
       " 'aiter',\n",
       " 'all',\n",
       " 'anext',\n",
       " 'any',\n",
       " 'ascii',\n",
       " 'bin',\n",
       " 'bool',\n",
       " 'breakpoint',\n",
       " 'bytearray',\n",
       " 'bytes',\n",
       " 'callable',\n",
       " 'chr',\n",
       " 'classmethod',\n",
       " 'compile',\n",
       " 'complex',\n",
       " 'copyright',\n",
       " 'credits',\n",
       " 'delattr',\n",
       " 'dict',\n",
       " 'dir',\n",
       " 'display',\n",
       " 'divmod',\n",
       " 'enumerate',\n",
       " 'eval',\n",
       " 'exec',\n",
       " 'execfile',\n",
       " 'filter',\n",
       " 'float',\n",
       " 'format',\n",
       " 'frozenset',\n",
       " 'get_ipython',\n",
       " 'getattr',\n",
       " 'globals',\n",
       " 'hasattr',\n",
       " 'hash',\n",
       " 'help',\n",
       " 'hex',\n",
       " 'id',\n",
       " 'input',\n",
       " 'int',\n",
       " 'isinstance',\n",
       " 'issubclass',\n",
       " 'iter',\n",
       " 'len',\n",
       " 'license',\n",
       " 'list',\n",
       " 'locals',\n",
       " 'map',\n",
       " 'max',\n",
       " 'memoryview',\n",
       " 'min',\n",
       " 'next',\n",
       " 'object',\n",
       " 'oct',\n",
       " 'open',\n",
       " 'ord',\n",
       " 'pow',\n",
       " 'print',\n",
       " 'property',\n",
       " 'range',\n",
       " 'repr',\n",
       " 'reversed',\n",
       " 'round',\n",
       " 'runfile',\n",
       " 'set',\n",
       " 'setattr',\n",
       " 'slice',\n",
       " 'sorted',\n",
       " 'staticmethod',\n",
       " 'str',\n",
       " 'sum',\n",
       " 'super',\n",
       " 'tuple',\n",
       " 'type',\n",
       " 'vars',\n",
       " 'zip']"
      ]
     },
     "execution_count": 109,
     "metadata": {},
     "output_type": "execute_result"
    }
   ],
   "source": [
    "dir(__builtin__)"
   ]
  },
  {
   "cell_type": "code",
   "execution_count": 110,
   "id": "a0929c2f",
   "metadata": {},
   "outputs": [
    {
     "name": "stdout",
     "output_type": "stream",
     "text": [
      "Help on class Exception in module builtins:\n",
      "\n",
      "class Exception(BaseException)\n",
      " |  Common base class for all non-exit exceptions.\n",
      " |  \n",
      " |  Method resolution order:\n",
      " |      Exception\n",
      " |      BaseException\n",
      " |      object\n",
      " |  \n",
      " |  Built-in subclasses:\n",
      " |      ArithmeticError\n",
      " |      AssertionError\n",
      " |      AttributeError\n",
      " |      BufferError\n",
      " |      ... and 15 other subclasses\n",
      " |  \n",
      " |  Methods defined here:\n",
      " |  \n",
      " |  __init__(self, /, *args, **kwargs)\n",
      " |      Initialize self.  See help(type(self)) for accurate signature.\n",
      " |  \n",
      " |  ----------------------------------------------------------------------\n",
      " |  Static methods defined here:\n",
      " |  \n",
      " |  __new__(*args, **kwargs) from builtins.type\n",
      " |      Create and return a new object.  See help(type) for accurate signature.\n",
      " |  \n",
      " |  ----------------------------------------------------------------------\n",
      " |  Methods inherited from BaseException:\n",
      " |  \n",
      " |  __delattr__(self, name, /)\n",
      " |      Implement delattr(self, name).\n",
      " |  \n",
      " |  __getattribute__(self, name, /)\n",
      " |      Return getattr(self, name).\n",
      " |  \n",
      " |  __reduce__(...)\n",
      " |      Helper for pickle.\n",
      " |  \n",
      " |  __repr__(self, /)\n",
      " |      Return repr(self).\n",
      " |  \n",
      " |  __setattr__(self, name, value, /)\n",
      " |      Implement setattr(self, name, value).\n",
      " |  \n",
      " |  __setstate__(...)\n",
      " |  \n",
      " |  __str__(self, /)\n",
      " |      Return str(self).\n",
      " |  \n",
      " |  with_traceback(...)\n",
      " |      Exception.with_traceback(tb) --\n",
      " |      set self.__traceback__ to tb and return self.\n",
      " |  \n",
      " |  ----------------------------------------------------------------------\n",
      " |  Data descriptors inherited from BaseException:\n",
      " |  \n",
      " |  __cause__\n",
      " |      exception cause\n",
      " |  \n",
      " |  __context__\n",
      " |      exception context\n",
      " |  \n",
      " |  __dict__\n",
      " |  \n",
      " |  __suppress_context__\n",
      " |  \n",
      " |  __traceback__\n",
      " |  \n",
      " |  args\n",
      "\n"
     ]
    }
   ],
   "source": [
    "help(Exception)"
   ]
  },
  {
   "cell_type": "code",
   "execution_count": 111,
   "id": "4f22cb31",
   "metadata": {},
   "outputs": [],
   "source": [
    "e = Exception()"
   ]
  },
  {
   "cell_type": "code",
   "execution_count": 112,
   "id": "7a44bcd9",
   "metadata": {},
   "outputs": [
    {
     "data": {
      "text/plain": [
       "Exception"
      ]
     },
     "execution_count": 112,
     "metadata": {},
     "output_type": "execute_result"
    }
   ],
   "source": [
    "type(e)"
   ]
  },
  {
   "cell_type": "code",
   "execution_count": 113,
   "id": "61eb1ddb",
   "metadata": {},
   "outputs": [
    {
     "data": {
      "text/plain": [
       "False"
      ]
     },
     "execution_count": 113,
     "metadata": {},
     "output_type": "execute_result"
    }
   ],
   "source": [
    "isinstance(e, ValueError)"
   ]
  },
  {
   "cell_type": "code",
   "execution_count": 115,
   "id": "1c6e3213",
   "metadata": {},
   "outputs": [
    {
     "data": {
      "text/plain": [
       "True"
      ]
     },
     "execution_count": 115,
     "metadata": {},
     "output_type": "execute_result"
    }
   ],
   "source": [
    "isinstance(e, BaseException)"
   ]
  },
  {
   "cell_type": "code",
   "execution_count": 116,
   "id": "bbed71c5",
   "metadata": {},
   "outputs": [
    {
     "data": {
      "text/plain": [
       "[ValueError, Exception, BaseException, object]"
      ]
     },
     "execution_count": 116,
     "metadata": {},
     "output_type": "execute_result"
    }
   ],
   "source": [
    "ValueError.mro()"
   ]
  },
  {
   "cell_type": "code",
   "execution_count": 117,
   "id": "d8d16c53",
   "metadata": {},
   "outputs": [],
   "source": [
    "# OOP"
   ]
  },
  {
   "cell_type": "code",
   "execution_count": 118,
   "id": "2e138d50",
   "metadata": {},
   "outputs": [],
   "source": [
    "class Person:\n",
    "    pass"
   ]
  },
  {
   "cell_type": "code",
   "execution_count": 119,
   "id": "b15b6078",
   "metadata": {},
   "outputs": [],
   "source": [
    "p = Person()"
   ]
  },
  {
   "cell_type": "code",
   "execution_count": 120,
   "id": "5f1498dd",
   "metadata": {},
   "outputs": [],
   "source": [
    "p.x = 10"
   ]
  },
  {
   "cell_type": "code",
   "execution_count": 121,
   "id": "d579fb7e",
   "metadata": {},
   "outputs": [
    {
     "data": {
      "text/plain": [
       "10"
      ]
     },
     "execution_count": 121,
     "metadata": {},
     "output_type": "execute_result"
    }
   ],
   "source": [
    "p.x"
   ]
  },
  {
   "cell_type": "code",
   "execution_count": 141,
   "id": "bbecf9e1",
   "metadata": {},
   "outputs": [],
   "source": [
    "class Person:\n",
    "    def __init__(self, name, b_year):\n",
    "        self.name = name\n",
    "        self.b_year = b_year\n",
    "        \n",
    "    def __str__(self):\n",
    "        return f\"Osoba: {self.name} ({self.b_year})\"\n",
    "    \n",
    "        \n",
    "    def __repr__(self):\n",
    "        return f\"Osoba: {self.name} ({self.b_year})\"\n",
    "    \n",
    "    def welcome(self):\n",
    "        return f\"Hello I am {self.name}\""
   ]
  },
  {
   "cell_type": "code",
   "execution_count": 142,
   "id": "72e8fcd8",
   "metadata": {},
   "outputs": [],
   "source": [
    "p = Person(\"Rafał\", 1980)"
   ]
  },
  {
   "cell_type": "code",
   "execution_count": 143,
   "id": "623495f8",
   "metadata": {},
   "outputs": [
    {
     "data": {
      "text/plain": [
       "'Osoba: Rafał (1980)'"
      ]
     },
     "execution_count": 143,
     "metadata": {},
     "output_type": "execute_result"
    }
   ],
   "source": [
    "str(p)"
   ]
  },
  {
   "cell_type": "code",
   "execution_count": 144,
   "id": "23a60d0b",
   "metadata": {},
   "outputs": [
    {
     "data": {
      "text/plain": [
       "'Osoba: Rafał (1980)'"
      ]
     },
     "execution_count": 144,
     "metadata": {},
     "output_type": "execute_result"
    }
   ],
   "source": [
    "repr(p)"
   ]
  },
  {
   "cell_type": "code",
   "execution_count": 145,
   "id": "29545d98",
   "metadata": {},
   "outputs": [
    {
     "name": "stdout",
     "output_type": "stream",
     "text": [
      "Osoba: Anna (1992)\n"
     ]
    }
   ],
   "source": [
    "class Student(Person):\n",
    "    pass\n",
    "s = Student(\"Anna\", 1992)\n",
    "print(s)"
   ]
  },
  {
   "cell_type": "code",
   "execution_count": 146,
   "id": "4a073b2c",
   "metadata": {},
   "outputs": [
    {
     "data": {
      "text/plain": [
       "'Hello I am Anna'"
      ]
     },
     "execution_count": 146,
     "metadata": {},
     "output_type": "execute_result"
    }
   ],
   "source": [
    "s.welcome()"
   ]
  },
  {
   "cell_type": "code",
   "execution_count": 149,
   "id": "50c69c48",
   "metadata": {},
   "outputs": [],
   "source": [
    "from abc import ABC, abstractmethod\n",
    "\n",
    "class Sender(ABC):\n",
    "    \n",
    "    @abstractmethod\n",
    "    def send(self):\n",
    "        ...\n",
    "        \n",
    "        \n",
    "class MailSender(Sender):\n",
    "    \n",
    "    def send(self):\n",
    "        print(\"Wysyłam emaila\")\n",
    "\n",
    "\n",
    "p = MailSender()"
   ]
  },
  {
   "cell_type": "code",
   "execution_count": 150,
   "id": "3f19200d",
   "metadata": {},
   "outputs": [
    {
     "name": "stdout",
     "output_type": "stream",
     "text": [
      "Wysyłam emaila\n"
     ]
    }
   ],
   "source": [
    "p.send()"
   ]
  },
  {
   "cell_type": "code",
   "execution_count": 151,
   "id": "822811ce",
   "metadata": {},
   "outputs": [],
   "source": [
    "def obsluga(sender: Sender):\n",
    "    sender.send()"
   ]
  },
  {
   "cell_type": "code",
   "execution_count": 152,
   "id": "d8e957f6",
   "metadata": {},
   "outputs": [
    {
     "name": "stdout",
     "output_type": "stream",
     "text": [
      "Wysyłam emaila\n"
     ]
    }
   ],
   "source": [
    "obsluga(p)"
   ]
  },
  {
   "cell_type": "code",
   "execution_count": null,
   "id": "66c26763",
   "metadata": {},
   "outputs": [],
   "source": []
  }
 ],
 "metadata": {
  "kernelspec": {
   "display_name": "Python 3 (ipykernel)",
   "language": "python",
   "name": "python3"
  },
  "language_info": {
   "codemirror_mode": {
    "name": "ipython",
    "version": 3
   },
   "file_extension": ".py",
   "mimetype": "text/x-python",
   "name": "python",
   "nbconvert_exporter": "python",
   "pygments_lexer": "ipython3",
   "version": "3.10.7"
  },
  "toc": {
   "base_numbering": 1,
   "nav_menu": {},
   "number_sections": true,
   "sideBar": true,
   "skip_h1_title": false,
   "title_cell": "Table of Contents",
   "title_sidebar": "Contents",
   "toc_cell": false,
   "toc_position": {},
   "toc_section_display": true,
   "toc_window_display": false
  }
 },
 "nbformat": 4,
 "nbformat_minor": 5
}
