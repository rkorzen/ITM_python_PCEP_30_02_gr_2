{
 "cells": [
  {
   "cell_type": "markdown",
   "id": "4c32cc24",
   "metadata": {},
   "source": [
    "## Python Fundamentals\n",
    "\n",
    "PCEP-30-02 1.1 – Understand fundamental terms and definitions\n",
    "\n",
    "    interpreting and the interpreter, compilation and the compiler\n",
    "    \n",
    "    \n",
    "    lexis, syntax, and semantics\n",
    "    \n",
    "    \n",
    "\n",
    "PCEP-30-02 1.2 – Understand Python’s logic and structure\n",
    "\n",
    "    keywords"
   ]
  },
  {
   "cell_type": "code",
   "execution_count": 1,
   "id": "66298cc6",
   "metadata": {},
   "outputs": [
    {
     "name": "stdout",
     "output_type": "stream",
     "text": [
      "\n",
      "Here is a list of the Python keywords.  Enter any keyword to get more help.\n",
      "\n",
      "False               class               from                or\n",
      "None                continue            global              pass\n",
      "True                def                 if                  raise\n",
      "and                 del                 import              return\n",
      "as                  elif                in                  try\n",
      "assert              else                is                  while\n",
      "async               except              lambda              with\n",
      "await               finally             nonlocal            yield\n",
      "break               for                 not                 \n",
      "\n"
     ]
    }
   ],
   "source": [
    "help(\"keywords\")"
   ]
  },
  {
   "cell_type": "markdown",
   "id": "a260af08",
   "metadata": {},
   "source": [
    "False, True, None"
   ]
  },
  {
   "cell_type": "markdown",
   "id": "6fe7e3b1",
   "metadata": {},
   "source": [
    "and, or, not, is, in, if, elif, else"
   ]
  },
  {
   "cell_type": "markdown",
   "id": "6ba75166",
   "metadata": {},
   "source": [
    "async, await"
   ]
  },
  {
   "cell_type": "markdown",
   "id": "edf18a75",
   "metadata": {},
   "source": [
    "def, class, return, yield, pass, lambda"
   ]
  },
  {
   "cell_type": "markdown",
   "id": "0e50e57f",
   "metadata": {},
   "source": [
    "assert"
   ]
  },
  {
   "cell_type": "markdown",
   "id": "7eae59b9",
   "metadata": {},
   "source": [
    "for, while, else, break, continue"
   ]
  },
  {
   "cell_type": "markdown",
   "id": "988b390d",
   "metadata": {},
   "source": [
    "raise, try, except, finally"
   ]
  },
  {
   "cell_type": "markdown",
   "id": "1737f81d",
   "metadata": {},
   "source": [
    "global, nonlocal, del"
   ]
  },
  {
   "cell_type": "markdown",
   "id": "9698f711",
   "metadata": {},
   "source": [
    "import, from, as"
   ]
  },
  {
   "cell_type": "markdown",
   "id": "337ffc5e",
   "metadata": {},
   "source": [
    "with, as"
   ]
  },
  {
   "cell_type": "code",
   "execution_count": 9,
   "id": "f8f84ecb",
   "metadata": {},
   "outputs": [],
   "source": [
    "# dir()"
   ]
  },
  {
   "cell_type": "code",
   "execution_count": 8,
   "id": "1eb0443e",
   "metadata": {},
   "outputs": [
    {
     "data": {
      "text/plain": [
       "'\\nTo jest jakiś\\ndługi komentarz\\n'"
      ]
     },
     "execution_count": 8,
     "metadata": {},
     "output_type": "execute_result"
    }
   ],
   "source": [
    "\"\"\"\n",
    "To jest jakiś\n",
    "długi komentarz\n",
    "\"\"\""
   ]
  },
  {
   "cell_type": "markdown",
   "id": "23129891",
   "metadata": {},
   "source": [
    "    instructions\n",
    "    "
   ]
  },
  {
   "cell_type": "code",
   "execution_count": 13,
   "id": "f8e7cdf1",
   "metadata": {},
   "outputs": [
    {
     "name": "stdout",
     "output_type": "stream",
     "text": [
      "\n",
      "0\n",
      "1\n",
      "2\n",
      "3\n",
      "4\n",
      "5\n",
      "6\n",
      "7\n",
      "8\n",
      "9\n"
     ]
    }
   ],
   "source": [
    "x = 1 # przypisanie\n",
    "print() # wywołanie\n",
    "\n",
    "# definicje\n",
    "def foo():\n",
    "    pass\n",
    "\n",
    "class Foo():\n",
    "    pass\n",
    "\n",
    "foo(), Foo()\n",
    "\n",
    "# instrukcje sterujace\n",
    "\n",
    "if x == 1:\n",
    "    for i in range(10): print(i)\n",
    "else:\n",
    "    print(\"cos innego\")"
   ]
  },
  {
   "cell_type": "markdown",
   "id": "5d5ba9e7",
   "metadata": {},
   "source": [
    "    \n",
    "    indentation\n",
    "    "
   ]
  },
  {
   "cell_type": "markdown",
   "id": "9f54525d",
   "metadata": {},
   "source": [
    "if (wyrazenie) {inst1; instr2;} else {print(\"a\"); print(\"b\")}\n",
    "\n",
    "\n",
    "if (wyrazenie) \n",
    "{\n",
    "  inst1; \n",
    "  instr2;\n",
    "} \n",
    "else \n",
    "{\n",
    "  print(\"a\"); \n",
    "  print(\"b\");\n",
    "}"
   ]
  },
  {
   "cell_type": "code",
   "execution_count": 24,
   "id": "e3626ef4",
   "metadata": {},
   "outputs": [
    {
     "name": "stdout",
     "output_type": "stream",
     "text": [
      "przed wyrażeniem\n",
      "a 10\n",
      "b\n",
      "jeste po wyrażeniu\n"
     ]
    }
   ],
   "source": [
    "wyrazenie = 1 > 2\n",
    "a = 10\n",
    "print(\"przed wyrażeniem\")\n",
    "\n",
    "if wyrazenie:\n",
    "    # blok instrukcji\n",
    "    instr1\n",
    "    instr2\n",
    "    \n",
    "else:\n",
    "    if a > 5:\n",
    "        print(\"a\", a)\n",
    "    print(\"b\")\n",
    "    \n",
    "print(\"jeste po wyrażeniu\")"
   ]
  },
  {
   "cell_type": "code",
   "execution_count": 29,
   "id": "bb1ce75e",
   "metadata": {},
   "outputs": [],
   "source": [
    "def jakas_funkcja():\n",
    "    \"\"\"napis\"\"\""
   ]
  },
  {
   "cell_type": "markdown",
   "id": "a33d9eb9",
   "metadata": {},
   "source": [
    "    comments"
   ]
  },
  {
   "cell_type": "code",
   "execution_count": 30,
   "id": "ce02cb9b",
   "metadata": {},
   "outputs": [],
   "source": [
    "# komentarz\n",
    "# linia 2\n",
    "# ctrl + /\n",
    "\n",
    "x = 1  # parameter x "
   ]
  },
  {
   "cell_type": "code",
   "execution_count": null,
   "id": "58decded",
   "metadata": {},
   "outputs": [],
   "source": [
    "\"\"\"\n",
    "komentarz\n",
    "linia 2\n",
    "ctrl + /\n",
    "\"\"\""
   ]
  },
  {
   "cell_type": "markdown",
   "id": "a1dd0d3f",
   "metadata": {},
   "source": [
    "PCEP-30-02 1.3 – Introduce literals and variables into code and use different numeral systems\n",
    "\n",
    "    Boolean, \n",
    "    \n",
    "    "
   ]
  },
  {
   "cell_type": "code",
   "execution_count": 36,
   "id": "02ab002f",
   "metadata": {},
   "outputs": [
    {
     "data": {
      "text/plain": [
       "True"
      ]
     },
     "execution_count": 36,
     "metadata": {},
     "output_type": "execute_result"
    }
   ],
   "source": [
    "## bool, False, True\n",
    "\n",
    "bool  # nazwa typu\n",
    "bool() # tworzę obiekt typu bool\n",
    "\n",
    "bool(\"0\")"
   ]
  },
  {
   "cell_type": "code",
   "execution_count": 38,
   "id": "2fb1268b",
   "metadata": {},
   "outputs": [
    {
     "data": {
      "text/plain": [
       "True"
      ]
     },
     "execution_count": 38,
     "metadata": {},
     "output_type": "execute_result"
    }
   ],
   "source": [
    "bool(\"False\")"
   ]
  },
  {
   "cell_type": "code",
   "execution_count": 39,
   "id": "83e1ac19",
   "metadata": {},
   "outputs": [
    {
     "data": {
      "text/plain": [
       "bool"
      ]
     },
     "execution_count": 39,
     "metadata": {},
     "output_type": "execute_result"
    }
   ],
   "source": [
    "type(1 > 0)"
   ]
  },
  {
   "cell_type": "code",
   "execution_count": 44,
   "id": "edac5402",
   "metadata": {},
   "outputs": [],
   "source": [
    "# help(bool)"
   ]
  },
  {
   "cell_type": "code",
   "execution_count": 42,
   "id": "1f7a81f5",
   "metadata": {},
   "outputs": [
    {
     "data": {
      "text/plain": [
       "2"
      ]
     },
     "execution_count": 42,
     "metadata": {},
     "output_type": "execute_result"
    }
   ],
   "source": [
    "1 + True"
   ]
  },
  {
   "cell_type": "code",
   "execution_count": 47,
   "id": "6cf8a5d8",
   "metadata": {},
   "outputs": [
    {
     "data": {
      "text/plain": [
       "False"
      ]
     },
     "execution_count": 47,
     "metadata": {},
     "output_type": "execute_result"
    }
   ],
   "source": [
    "False and True"
   ]
  },
  {
   "cell_type": "code",
   "execution_count": 48,
   "id": "57cb600c",
   "metadata": {},
   "outputs": [
    {
     "data": {
      "text/plain": [
       "True"
      ]
     },
     "execution_count": 48,
     "metadata": {},
     "output_type": "execute_result"
    }
   ],
   "source": [
    "False or True"
   ]
  },
  {
   "cell_type": "code",
   "execution_count": 49,
   "id": "42b6c2f1",
   "metadata": {},
   "outputs": [
    {
     "data": {
      "text/plain": [
       "True"
      ]
     },
     "execution_count": 49,
     "metadata": {},
     "output_type": "execute_result"
    }
   ],
   "source": [
    "1 > 0 or 1 / 0"
   ]
  },
  {
   "cell_type": "code",
   "execution_count": 50,
   "id": "f6ffa625",
   "metadata": {},
   "outputs": [
    {
     "ename": "ZeroDivisionError",
     "evalue": "division by zero",
     "output_type": "error",
     "traceback": [
      "\u001b[0;31m---------------------------------------------------------------------------\u001b[0m",
      "\u001b[0;31mZeroDivisionError\u001b[0m                         Traceback (most recent call last)",
      "Cell \u001b[0;32mIn[50], line 1\u001b[0m\n\u001b[0;32m----> 1\u001b[0m \u001b[38;5;241m1\u001b[39m \u001b[38;5;241m>\u001b[39m \u001b[38;5;241m0\u001b[39m \u001b[38;5;129;01mand\u001b[39;00m \u001b[38;5;241;43m1\u001b[39;49m\u001b[43m \u001b[49m\u001b[38;5;241;43m/\u001b[39;49m\u001b[43m \u001b[49m\u001b[38;5;241;43m0\u001b[39;49m\n",
      "\u001b[0;31mZeroDivisionError\u001b[0m: division by zero"
     ]
    }
   ],
   "source": [
    "1 > 0 and 1 / 0"
   ]
  },
  {
   "cell_type": "code",
   "execution_count": 51,
   "id": "06ab0373",
   "metadata": {},
   "outputs": [
    {
     "data": {
      "text/plain": [
       "False"
      ]
     },
     "execution_count": 51,
     "metadata": {},
     "output_type": "execute_result"
    }
   ],
   "source": [
    "1 > 2 and 1 / 0"
   ]
  },
  {
   "cell_type": "code",
   "execution_count": 53,
   "id": "34531cfb",
   "metadata": {},
   "outputs": [
    {
     "data": {
      "text/plain": [
       "True"
      ]
     },
     "execution_count": 53,
     "metadata": {},
     "output_type": "execute_result"
    }
   ],
   "source": [
    "x = 10 - 9\n",
    "x == True # x == 1"
   ]
  },
  {
   "cell_type": "code",
   "execution_count": null,
   "id": "56b30a82",
   "metadata": {},
   "outputs": [],
   "source": [
    "x is True"
   ]
  },
  {
   "cell_type": "code",
   "execution_count": 54,
   "id": "5a893c88",
   "metadata": {},
   "outputs": [
    {
     "data": {
      "text/plain": [
       "4407235760"
      ]
     },
     "execution_count": 54,
     "metadata": {},
     "output_type": "execute_result"
    }
   ],
   "source": [
    "id(True)"
   ]
  },
  {
   "cell_type": "code",
   "execution_count": 55,
   "id": "415d99e2",
   "metadata": {},
   "outputs": [
    {
     "data": {
      "text/plain": [
       "4407235760"
      ]
     },
     "execution_count": 55,
     "metadata": {},
     "output_type": "execute_result"
    }
   ],
   "source": [
    "id(1 > 0)"
   ]
  },
  {
   "cell_type": "code",
   "execution_count": 65,
   "id": "b5f9550b",
   "metadata": {},
   "outputs": [],
   "source": [
    "# x = 1\n",
    "# y = 1\n",
    "\n",
    "# x = 10000\n",
    "# y = 10000\n",
    "\n",
    "\n",
    "x = \"ala 1\"\n",
    "y = \"ala 1\""
   ]
  },
  {
   "cell_type": "code",
   "execution_count": 66,
   "id": "a8be992a",
   "metadata": {},
   "outputs": [
    {
     "data": {
      "text/plain": [
       "True"
      ]
     },
     "execution_count": 66,
     "metadata": {},
     "output_type": "execute_result"
    }
   ],
   "source": [
    "x == y"
   ]
  },
  {
   "cell_type": "code",
   "execution_count": 67,
   "id": "827bd0dd",
   "metadata": {},
   "outputs": [
    {
     "data": {
      "text/plain": [
       "False"
      ]
     },
     "execution_count": 67,
     "metadata": {},
     "output_type": "execute_result"
    }
   ],
   "source": [
    "x is y"
   ]
  },
  {
   "cell_type": "code",
   "execution_count": null,
   "id": "b92d5930",
   "metadata": {},
   "outputs": [],
   "source": []
  },
  {
   "cell_type": "markdown",
   "id": "f4d675f5",
   "metadata": {},
   "source": [
    "    integers, "
   ]
  },
  {
   "cell_type": "code",
   "execution_count": 69,
   "id": "7ca07d1a",
   "metadata": {},
   "outputs": [
    {
     "data": {
      "text/plain": [
       "int"
      ]
     },
     "execution_count": 69,
     "metadata": {},
     "output_type": "execute_result"
    }
   ],
   "source": [
    "int"
   ]
  },
  {
   "cell_type": "code",
   "execution_count": 70,
   "id": "2fd97e53",
   "metadata": {},
   "outputs": [
    {
     "data": {
      "text/plain": [
       "0"
      ]
     },
     "execution_count": 70,
     "metadata": {},
     "output_type": "execute_result"
    }
   ],
   "source": [
    "int()"
   ]
  },
  {
   "cell_type": "code",
   "execution_count": 72,
   "id": "6ebdb901",
   "metadata": {},
   "outputs": [
    {
     "data": {
      "text/plain": [
       "1"
      ]
     },
     "execution_count": 72,
     "metadata": {},
     "output_type": "execute_result"
    }
   ],
   "source": [
    "int(True)"
   ]
  },
  {
   "cell_type": "code",
   "execution_count": 73,
   "id": "3b2e570b",
   "metadata": {},
   "outputs": [
    {
     "data": {
      "text/plain": [
       "10"
      ]
     },
     "execution_count": 73,
     "metadata": {},
     "output_type": "execute_result"
    }
   ],
   "source": [
    "int(\"10\")"
   ]
  },
  {
   "cell_type": "code",
   "execution_count": 75,
   "id": "3443bad6",
   "metadata": {},
   "outputs": [
    {
     "ename": "ValueError",
     "evalue": "invalid literal for int() with base 10: 'aaa'",
     "output_type": "error",
     "traceback": [
      "\u001b[0;31m---------------------------------------------------------------------------\u001b[0m",
      "\u001b[0;31mValueError\u001b[0m                                Traceback (most recent call last)",
      "Cell \u001b[0;32mIn[75], line 1\u001b[0m\n\u001b[0;32m----> 1\u001b[0m \u001b[38;5;28;43mint\u001b[39;49m\u001b[43m(\u001b[49m\u001b[38;5;124;43m\"\u001b[39;49m\u001b[38;5;124;43maaa\u001b[39;49m\u001b[38;5;124;43m\"\u001b[39;49m\u001b[43m)\u001b[49m\n",
      "\u001b[0;31mValueError\u001b[0m: invalid literal for int() with base 10: 'aaa'"
     ]
    }
   ],
   "source": [
    "int(\"aaa\")"
   ]
  },
  {
   "cell_type": "code",
   "execution_count": 76,
   "id": "ebfb74ad",
   "metadata": {},
   "outputs": [],
   "source": [
    "int?"
   ]
  },
  {
   "cell_type": "code",
   "execution_count": 68,
   "id": "c1871f28",
   "metadata": {},
   "outputs": [
    {
     "data": {
      "text/plain": [
       "100000000000000000000000"
      ]
     },
     "execution_count": 68,
     "metadata": {},
     "output_type": "execute_result"
    }
   ],
   "source": [
    "1000\n",
    "100000000000000000000000"
   ]
  },
  {
   "cell_type": "code",
   "execution_count": 77,
   "id": "61a85b55",
   "metadata": {},
   "outputs": [
    {
     "data": {
      "text/plain": [
       "2748"
      ]
     },
     "execution_count": 77,
     "metadata": {},
     "output_type": "execute_result"
    }
   ],
   "source": [
    "liczba_szesnastkowa = \"abc\"\n",
    "\n",
    "# 0, 1\n",
    "# 0, 1, 2\n",
    "# 0, 1, ..., 9\n",
    "# 0, 1, ..., 9, a, b, c, d, e, f\n",
    "\n",
    "int(liczba_szesnastkowa, base=16)"
   ]
  },
  {
   "cell_type": "code",
   "execution_count": 78,
   "id": "d5f3dbc7",
   "metadata": {},
   "outputs": [
    {
     "data": {
      "text/plain": [
       "10"
      ]
     },
     "execution_count": 78,
     "metadata": {},
     "output_type": "execute_result"
    }
   ],
   "source": [
    "int(\"a\", base=16)"
   ]
  },
  {
   "cell_type": "code",
   "execution_count": 80,
   "id": "54e89385",
   "metadata": {},
   "outputs": [
    {
     "data": {
      "text/plain": [
       "2"
      ]
     },
     "execution_count": 80,
     "metadata": {},
     "output_type": "execute_result"
    }
   ],
   "source": [
    "int(\"2\", base=3)"
   ]
  },
  {
   "cell_type": "code",
   "execution_count": 81,
   "id": "39c5ef6f",
   "metadata": {},
   "outputs": [
    {
     "data": {
      "text/plain": [
       "1"
      ]
     },
     "execution_count": 81,
     "metadata": {},
     "output_type": "execute_result"
    }
   ],
   "source": [
    "int(1.1)"
   ]
  },
  {
   "cell_type": "code",
   "execution_count": 83,
   "id": "af0e0118",
   "metadata": {},
   "outputs": [
    {
     "data": {
      "text/plain": [
       "1999999000"
      ]
     },
     "execution_count": 83,
     "metadata": {},
     "output_type": "execute_result"
    }
   ],
   "source": [
    "1_999_99_9_000"
   ]
  },
  {
   "cell_type": "markdown",
   "id": "8b65bdc9",
   "metadata": {},
   "source": [
    "    binary, octal, decimal, and hexadecimal numeral systems"
   ]
  },
  {
   "cell_type": "code",
   "execution_count": null,
   "id": "7db8fc35",
   "metadata": {
    "collapsed": true
   },
   "outputs": [],
   "source": [
    "bin, oct, hex"
   ]
  },
  {
   "cell_type": "code",
   "execution_count": 84,
   "id": "fc621303",
   "metadata": {},
   "outputs": [
    {
     "data": {
      "text/plain": [
       "'0b1111011'"
      ]
     },
     "execution_count": 84,
     "metadata": {},
     "output_type": "execute_result"
    }
   ],
   "source": [
    "bin(123)"
   ]
  },
  {
   "cell_type": "code",
   "execution_count": 85,
   "id": "7061e30c",
   "metadata": {},
   "outputs": [
    {
     "data": {
      "text/plain": [
       "'0o173'"
      ]
     },
     "execution_count": 85,
     "metadata": {},
     "output_type": "execute_result"
    }
   ],
   "source": [
    "oct(123)"
   ]
  },
  {
   "cell_type": "code",
   "execution_count": 86,
   "id": "976adf22",
   "metadata": {},
   "outputs": [
    {
     "data": {
      "text/plain": [
       "'0x7b'"
      ]
     },
     "execution_count": 86,
     "metadata": {},
     "output_type": "execute_result"
    }
   ],
   "source": [
    "hex(123)"
   ]
  },
  {
   "cell_type": "code",
   "execution_count": 91,
   "id": "4ded5419",
   "metadata": {},
   "outputs": [
    {
     "data": {
      "text/plain": [
       "(273, -7, 73)"
      ]
     },
     "execution_count": 91,
     "metadata": {},
     "output_type": "execute_result"
    }
   ],
   "source": [
    "0x111, -0b111, 0o111"
   ]
  },
  {
   "cell_type": "markdown",
   "id": "a26ccfae",
   "metadata": {},
   "source": [
    "    floating-point numbers"
   ]
  },
  {
   "cell_type": "code",
   "execution_count": 93,
   "id": "b34e47b6",
   "metadata": {},
   "outputs": [
    {
     "data": {
      "text/plain": [
       "float"
      ]
     },
     "execution_count": 93,
     "metadata": {},
     "output_type": "execute_result"
    }
   ],
   "source": [
    "type(1.1)"
   ]
  },
  {
   "cell_type": "code",
   "execution_count": 95,
   "id": "5bf3d6ac",
   "metadata": {},
   "outputs": [
    {
     "data": {
      "text/plain": [
       "0.0"
      ]
     },
     "execution_count": 95,
     "metadata": {},
     "output_type": "execute_result"
    }
   ],
   "source": [
    "float()"
   ]
  },
  {
   "cell_type": "code",
   "execution_count": 96,
   "id": "f894656f",
   "metadata": {},
   "outputs": [
    {
     "data": {
      "text/plain": [
       "2.7"
      ]
     },
     "execution_count": 96,
     "metadata": {},
     "output_type": "execute_result"
    }
   ],
   "source": [
    "float(\"2.7\")"
   ]
  },
  {
   "cell_type": "code",
   "execution_count": 99,
   "id": "fd1308a8",
   "metadata": {},
   "outputs": [],
   "source": [
    "# float(\"2,7\")"
   ]
  },
  {
   "cell_type": "code",
   "execution_count": 100,
   "id": "56ea8bfd",
   "metadata": {},
   "outputs": [
    {
     "data": {
      "text/plain": [
       "False"
      ]
     },
     "execution_count": 100,
     "metadata": {},
     "output_type": "execute_result"
    }
   ],
   "source": [
    "0.1 + 0.1 + 0.1 == 0.3"
   ]
  },
  {
   "cell_type": "code",
   "execution_count": 101,
   "id": "64c5e837",
   "metadata": {},
   "outputs": [
    {
     "data": {
      "text/plain": [
       "0.30000000000000004"
      ]
     },
     "execution_count": 101,
     "metadata": {},
     "output_type": "execute_result"
    }
   ],
   "source": [
    "0.1 + 0.1 + 0.1"
   ]
  },
  {
   "cell_type": "code",
   "execution_count": 103,
   "id": "e03d3082",
   "metadata": {},
   "outputs": [
    {
     "data": {
      "text/plain": [
       "inf"
      ]
     },
     "execution_count": 103,
     "metadata": {},
     "output_type": "execute_result"
    }
   ],
   "source": [
    "1.78e400"
   ]
  },
  {
   "cell_type": "code",
   "execution_count": 109,
   "id": "6c0436f9",
   "metadata": {},
   "outputs": [
    {
     "data": {
      "text/plain": [
       "True"
      ]
     },
     "execution_count": 109,
     "metadata": {},
     "output_type": "execute_result"
    }
   ],
   "source": [
    "float(\"-inf\") <= 1.78e400 <= float(\"inf\")"
   ]
  },
  {
   "cell_type": "code",
   "execution_count": 110,
   "id": "edc5e457",
   "metadata": {},
   "outputs": [
    {
     "data": {
      "text/plain": [
       "False"
      ]
     },
     "execution_count": 110,
     "metadata": {},
     "output_type": "execute_result"
    }
   ],
   "source": [
    "float(\"-inf\") <= float(\"nan\") <= float(\"inf\")"
   ]
  },
  {
   "cell_type": "code",
   "execution_count": 111,
   "id": "b158a1b0",
   "metadata": {},
   "outputs": [
    {
     "data": {
      "text/plain": [
       "True"
      ]
     },
     "execution_count": 111,
     "metadata": {},
     "output_type": "execute_result"
    }
   ],
   "source": [
    "1.1 == 1.1"
   ]
  },
  {
   "cell_type": "code",
   "execution_count": 112,
   "id": "5edb983f",
   "metadata": {},
   "outputs": [
    {
     "data": {
      "text/plain": [
       "False"
      ]
     },
     "execution_count": 112,
     "metadata": {},
     "output_type": "execute_result"
    }
   ],
   "source": [
    "float(\"nan\") == float(\"nan\")"
   ]
  },
  {
   "cell_type": "markdown",
   "id": "e6608751",
   "metadata": {},
   "source": [
    "    \n",
    "    \n",
    "    scientific notation"
   ]
  },
  {
   "cell_type": "code",
   "execution_count": 114,
   "id": "924a7f91",
   "metadata": {},
   "outputs": [
    {
     "data": {
      "text/plain": [
       "10000.0"
      ]
     },
     "execution_count": 114,
     "metadata": {},
     "output_type": "execute_result"
    }
   ],
   "source": [
    "0.1e5"
   ]
  },
  {
   "cell_type": "markdown",
   "id": "b593e47b",
   "metadata": {},
   "source": [
    "## operatory arytmetyczne:\n",
    "\n",
    "+, -, *, /, //, %, **  "
   ]
  },
  {
   "cell_type": "code",
   "execution_count": 116,
   "id": "0cd60cbb",
   "metadata": {},
   "outputs": [
    {
     "data": {
      "text/plain": [
       "9"
      ]
     },
     "execution_count": 116,
     "metadata": {},
     "output_type": "execute_result"
    }
   ],
   "source": [
    "3 ** 2"
   ]
  },
  {
   "cell_type": "code",
   "execution_count": 119,
   "id": "9e0b1ed9",
   "metadata": {},
   "outputs": [
    {
     "data": {
      "text/plain": [
       "(2.5, 2, 1)"
      ]
     },
     "execution_count": 119,
     "metadata": {},
     "output_type": "execute_result"
    }
   ],
   "source": [
    "5 / 2, 5 // 2, 5 % 2"
   ]
  },
  {
   "cell_type": "code",
   "execution_count": 124,
   "id": "608f5108",
   "metadata": {},
   "outputs": [
    {
     "data": {
      "text/plain": [
       "float"
      ]
     },
     "execution_count": 124,
     "metadata": {},
     "output_type": "execute_result"
    }
   ],
   "source": [
    "type(5.0 // 2)"
   ]
  },
  {
   "cell_type": "code",
   "execution_count": 125,
   "id": "430bb404",
   "metadata": {},
   "outputs": [
    {
     "data": {
      "text/plain": [
       "2.0"
      ]
     },
     "execution_count": 125,
     "metadata": {},
     "output_type": "execute_result"
    }
   ],
   "source": [
    "5.0 // 2"
   ]
  },
  {
   "cell_type": "code",
   "execution_count": 127,
   "id": "942572ad",
   "metadata": {},
   "outputs": [
    {
     "data": {
      "text/plain": [
       "float"
      ]
     },
     "execution_count": 127,
     "metadata": {},
     "output_type": "execute_result"
    }
   ],
   "source": [
    "type(5 // 2.0)"
   ]
  },
  {
   "cell_type": "code",
   "execution_count": 128,
   "id": "eca39bd3",
   "metadata": {},
   "outputs": [
    {
     "data": {
      "text/plain": [
       "2.0"
      ]
     },
     "execution_count": 128,
     "metadata": {},
     "output_type": "execute_result"
    }
   ],
   "source": [
    "5 // 2.0"
   ]
  },
  {
   "cell_type": "code",
   "execution_count": 120,
   "id": "130f6ede",
   "metadata": {},
   "outputs": [
    {
     "data": {
      "text/plain": [
       "3.0"
      ]
     },
     "execution_count": 120,
     "metadata": {},
     "output_type": "execute_result"
    }
   ],
   "source": [
    "9 ** 0.5"
   ]
  },
  {
   "cell_type": "code",
   "execution_count": 121,
   "id": "ac905620",
   "metadata": {},
   "outputs": [
    {
     "data": {
      "text/plain": [
       "3.0"
      ]
     },
     "execution_count": 121,
     "metadata": {},
     "output_type": "execute_result"
    }
   ],
   "source": [
    "pow(9, 0.5)"
   ]
  },
  {
   "cell_type": "markdown",
   "id": "7f64453a",
   "metadata": {},
   "source": [
    "    strings\n",
    "\n",
    "\n",
    "    variables\n",
    "    naming conventions\n",
    "    implementing PEP-8 recommendations"
   ]
  },
  {
   "cell_type": "markdown",
   "id": "f500f8ae",
   "metadata": {},
   "source": [
    "PCEP-30-02 1.4 – Choose operators and data types adequate to the problem\n",
    "\n",
    "    numeric operators: ** * / % // + –\n",
    "    string operators: * +\n",
    "    assignment and shortcut operators\n",
    "    unary and binary operators\n",
    "    priorities and binding\n",
    "    bitwise operators: ~ & ^ | << >>\n",
    "    Boolean operators: not, and, or\n",
    "    Boolean expressions\n",
    "    relational operators ( == != > >= < <= )\n",
    "    the accuracy of floating-point numbers\n",
    "    type casting"
   ]
  },
  {
   "cell_type": "markdown",
   "id": "94870b1f",
   "metadata": {},
   "source": [
    "PCEP-30-02 1.5 – Perform Input/Output console operations\n",
    "\n",
    "    the print() and input() functions\n",
    "    the sep= and end= keyword parameters\n",
    "    the int() and float() functions"
   ]
  },
  {
   "cell_type": "markdown",
   "id": "d510d1fc",
   "metadata": {},
   "source": [
    "## Control Flow - Conditional Blocks and Loops\n",
    "\n",
    "PCEP-30-02 2.1 – Make decisions and branch the flow with the if instruction\n",
    "\n",
    "    conditional statements: if, if-else, if-elif, if-elif-else\n",
    "    multiple conditional statements\n",
    "    nesting conditional statements\n",
    "\n",
    "PCEP-30-02 2.2 – Perform different types of iterations\n",
    "\n",
    "    the pass instruction\n",
    "    building loops with while, for, range(), and in\n",
    "    iterating through sequences\n",
    "    expanding loops with while-else and for-else\n",
    "    nesting loops and conditional statements\n",
    "    controlling loop execution with break and continue"
   ]
  },
  {
   "cell_type": "markdown",
   "id": "860087ac",
   "metadata": {},
   "source": [
    "## Data structures\n",
    "\n",
    "PCEP-30-02 3.1 – Collect and process data using lists\n",
    "\n",
    "    constructing vectors\n",
    "    indexing and slicing\n",
    "    the len() function\n",
    "    list methods: append(), insert(), index(), etc.\n",
    "    functions: len(), sorted()\n",
    "    the del instruction\n",
    "    iterating through lists with the for loop\n",
    "    initializing loops\n",
    "    the in and not in operators\n",
    "    list comprehensions\n",
    "    copying and cloning\n",
    "    lists in lists: matrices and cubes"
   ]
  },
  {
   "cell_type": "markdown",
   "id": "d241a58e",
   "metadata": {},
   "source": [
    "PCEP-30-02 3.2 – Collect and process data using tuples\n",
    "\n",
    "    tuples: indexing, slicing, building, immutability\n",
    "    tuples vs. lists: similarities and differences\n",
    "    lists inside tuples and tuples inside lists\n",
    "\n",
    "PCEP-30-02 3.3 Collect and process data using dictionaries\n",
    "\n",
    "    dictionaries: building, indexing, adding and removing keys\n",
    "    iterating through dictionaries and their keys and values\n",
    "    checking the existence of keys\n",
    "    methods: keys(), items(), and values()\n",
    "\n",
    "PCEP-30-02 3.4 Operate with strings\n",
    "\n",
    "    constructing strings\n",
    "    indexing, slicing, immutability\n",
    "    escaping using the \\ character\n",
    "    quotes and apostrophes inside strings\n",
    "    multi-line strings\n",
    "    basic string functions and methods\n",
    "\n",
    "\n",
    "## Functions and Exceptions\n",
    "\n",
    "PCEP-30-02 4.1 – Decompose the code using functions\n",
    "\n",
    "    defining and invoking user-defined functions and generators\n",
    "    the return keyword, returning results\n",
    "    the None keyword\n",
    "    recursion\n",
    "\n",
    "PCEP-30-02 4.2 – Organize interaction between the function and its environment\n",
    "\n",
    "    parameters vs. arguments\n",
    "    positional, keyword, and mixed argument passing\n",
    "    default parameter values\n",
    "    name scopes, name hiding (shadowing), and the global keyword\n",
    "\n",
    "PCEP-30-02 4.3 – Python Built-In Exceptions Hierarchy\n",
    "\n",
    "    BaseException\n",
    "    Exception\n",
    "    SystemExit\n",
    "    KeyboardInterrupt\n",
    "    abstract exceptions\n",
    "    ArithmeticError\n",
    "    LookupError\n",
    "    IndexError\n",
    "    KeyError\n",
    "    TypeError\n",
    "    ValueError\n",
    "\n",
    "PCEP-30-02 4.4 – Basics of Python Exception Handling\n",
    "\n",
    "    try-except / the try-except Exception\n",
    "    ordering the except branches\n",
    "    propagating exceptions through function boundaries\n",
    "    delegating responsibility for handling exceptions\n",
    "\n",
    "\n",
    "\n",
    "Last updated: February 23, 2022\n",
    "Aligned with Exam PCEP-30-02\n",
    "\n",
    "PCEP-30-01 Exam Syllabus\n",
    "\n",
    "Status: Live & Retiring (Dec 31, 2022)\n",
    "PCEP-30-01 badge\n",
    "\n",
    "The exam consists of five sections:\n",
    "\n",
    "    Section 1 → 5 items, Max Raw Score: 17 (17%)\n",
    "    Section 2 → 6 items, Max Raw Score: 20 (20%)\n",
    "    Section 3 → 6 items, Max Raw Score: 20 (20%)\n",
    "    Section 4 → 7 items, Max Raw Score: 23 (23%)\n",
    "    Section 5 → 6 items, Max Raw Score: 20 (20%)"
   ]
  },
  {
   "cell_type": "code",
   "execution_count": null,
   "id": "d45c06ea",
   "metadata": {},
   "outputs": [],
   "source": []
  },
  {
   "cell_type": "code",
   "execution_count": 2,
   "id": "016ccc92",
   "metadata": {},
   "outputs": [
    {
     "name": "stdout",
     "output_type": "stream",
     "text": [
      "1\n"
     ]
    }
   ],
   "source": [
    "x = 1\n",
    "print(x)"
   ]
  },
  {
   "cell_type": "code",
   "execution_count": null,
   "id": "205494f9",
   "metadata": {},
   "outputs": [],
   "source": []
  },
  {
   "cell_type": "code",
   "execution_count": null,
   "id": "d34ff565",
   "metadata": {},
   "outputs": [],
   "source": []
  }
 ],
 "metadata": {
  "kernelspec": {
   "display_name": "Python 3 (ipykernel)",
   "language": "python",
   "name": "python3"
  },
  "language_info": {
   "codemirror_mode": {
    "name": "ipython",
    "version": 3
   },
   "file_extension": ".py",
   "mimetype": "text/x-python",
   "name": "python",
   "nbconvert_exporter": "python",
   "pygments_lexer": "ipython3",
   "version": "3.10.7"
  },
  "toc": {
   "base_numbering": 1,
   "nav_menu": {},
   "number_sections": true,
   "sideBar": true,
   "skip_h1_title": false,
   "title_cell": "Table of Contents",
   "title_sidebar": "Contents",
   "toc_cell": false,
   "toc_position": {},
   "toc_section_display": true,
   "toc_window_display": false
  }
 },
 "nbformat": 4,
 "nbformat_minor": 5
}
